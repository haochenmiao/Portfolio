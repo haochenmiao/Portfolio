{
 "cells": [
  {
   "attachments": {},
   "cell_type": "markdown",
   "metadata": {},
   "source": [
    "# Analysis of YouTube Watch & Search History\n",
    "\n",
    "The internet has changed the way we consume media, and platforms like YouTube have emerged as significant sources of information and entertainment. As a frequent user of YouTube, I've often wondered about my viewing habits. What patterns might emerge from a careful examination of the videos I watch, the channels I frequent, and the times I choose to engage with this platform?\n",
    "\n",
    "<br> To answer these questions, I have collected my YouTube watch history and search history in JSON formats, providing a rich dataset that includes information such as video titles, viewing times, and associated channels. This dataset provides a unique opportunity to dive deep into my personal YouTube use and uncover any interesting trends or patterns.\n",
    "\n",
    "## Dataset Overview\n",
    "\n",
    "1. **YouTube Watch History('watch-history.json')**: This dataset contains my personal YouTube watch history. The data is stored in JSON format with the following attributes:\n",
    "    * **'header'**: This field indicates the platform, which in this case is always \"YouTube\".\n",
    "\n",
    "    * **'title'**: This field contains the action and the title of the video watched. The action is always \"Watched\" followed by the video title.\n",
    "    \n",
    "    * **'titleUrl'**: This field contains the URL of the watched video.\n",
    "    * **'subtitles'**: This field includes the channel name and the URL of the channel.\n",
    "    * **'time'**: This field records the timestamp of the watch action in the format \"YYYY-MM-DDTHH:MM:SS.SSSZ\".\n",
    "    * **'products'**: This field indicates the platform's product used, which in this case is always \"YouTube\".\n",
    "    * **'activityControls'**: This field indicates the type of activity, which in this case is always \"YouTube watch history\".\n",
    "2. **YouTube Search History ('search-history.json')**: This dataset contains my personal YouTube search history. The data is stored in JSON format with the following attributes:\n",
    "    * **'header'**: Similar to the watch history, this field indicates the platform, which is always \"YouTube\".\n",
    "\n",
    "    * **'title'**: This field contains the action and the search term used. The action is always \"Searched for\" followed by the search term.\n",
    "    \n",
    "    * **'titleUrl'**: This field contains the URL of the search results.\n",
    "    * **'time'**: This field records the timestamp of the search action in the format \"YYYY-MM-DDTHH:MM:SS.SSSZ\".\n",
    "    * **'products'**: This field indicates the platform's product used, which in this case is always \"YouTube\".\n",
    "    * **'activityControls'**: This field indicates the type of activity, which in this case is always \"YouTube search history\".\n",
    "\n",
    "<br> The goal of this project is to analyze these datasets to uncover insights and patterns about my YouTube viewing and searching habits. I'll be investigating aspects such as the distribution of watch times, the most commonly watched channels, the most commonly used search terms, and how these aspects might have changed over time.\n",
    "\n",
    "## Project Goals\n",
    "In this project, I will leverage Python and SQL, along with various libraries like pandas for data manipulation, NLTK for natural language processing, and matplotlib for visualization, to explore my YouTube watch history. The steps I plan to follow are:\n",
    "\n",
    "<br> 1. **Understanding the data**: I'll start by examining the structure of the JSON file and identifying the range of dates covered in the watch history.\n",
    "\n",
    "<br> 2. **Data Cleaning**: I will transform the JSON data into a pandas DataFrame for easier analysis, handle any missing or inconsistent fields, and convert data types where necessary.\n",
    "\n",
    "<br> 3. **Exploratory Data Analysis (EDA)**: Here, I'll look at the distribution of my watch times, how my YouTube usage has evolved over time, and identify the channels and video categories I watch the most.\n",
    "\n",
    "<br> 4. **Natural Language Processing (NLP) with NLTK**: I'll use NLP techniques to identify common words in video titles, classify titles into different topics, and analyze the sentiment of the video titles.\n",
    "\n",
    "<br> 5. **Further Analysis**: I'll look for trends or patterns in the types of videos I watch, explore correlations between video lengths and my watch times, and even attempt to predict future watching habits based on my historical data.\n",
    "\n",
    "<br> 6. **Data Visualization**: Finally, I'll create various visualizations to better understand my data and share my findings.\n",
    "\n",
    "Through this project, I hope to gain insights into my personal YouTube usage and demonstrate how data science techniques can be applied to analyze and understand digital media consumption. Let's dive in!\n",
    "\n",
    "\n",
    "\n"
   ]
  },
  {
   "attachments": {},
   "cell_type": "markdown",
   "metadata": {},
   "source": [
    "## Import Libraries"
   ]
  },
  {
   "cell_type": "code",
   "execution_count": 40,
   "metadata": {},
   "outputs": [],
   "source": [
    "import json\n",
    "import pandas as pd\n",
    "import matplotlib.pyplot as plt\n",
    "import ast"
   ]
  },
  {
   "attachments": {},
   "cell_type": "markdown",
   "metadata": {},
   "source": [
    "## Load the Datasets"
   ]
  },
  {
   "cell_type": "code",
   "execution_count": 41,
   "metadata": {},
   "outputs": [],
   "source": [
    "# Load the JSON files into Python\n",
    "with open('watch-history.json') as f:\n",
    "    watch_data = json.load(f)\n",
    "\n",
    "with open('search-history.json') as f:\n",
    "    search_data = json.load(f)\n",
    "\n",
    "# Convert the data to pandas DataFrames for easier analysis\n",
    "watch_df = pd.json_normalize(watch_data)\n",
    "search_df = pd.json_normalize(search_data)"
   ]
  },
  {
   "attachments": {},
   "cell_type": "markdown",
   "metadata": {},
   "source": [
    "## 1. Understanding the Data"
   ]
  },
  {
   "attachments": {},
   "cell_type": "markdown",
   "metadata": {},
   "source": [
    "After loading the datasets, I want to see what are the attributes are, .info() allows me to see what columns are there, what kinds of datatypes corresponds to the columns and how many rows that have values for each attribute"
   ]
  },
  {
   "cell_type": "code",
   "execution_count": 42,
   "metadata": {},
   "outputs": [
    {
     "name": "stdout",
     "output_type": "stream",
     "text": [
      "<class 'pandas.core.frame.DataFrame'>\n",
      "RangeIndex: 33000 entries, 0 to 32999\n",
      "Data columns (total 9 columns):\n",
      " #   Column            Non-Null Count  Dtype \n",
      "---  ------            --------------  ----- \n",
      " 0   header            33000 non-null  object\n",
      " 1   title             33000 non-null  object\n",
      " 2   titleUrl          32704 non-null  object\n",
      " 3   subtitles         27046 non-null  object\n",
      " 4   time              33000 non-null  object\n",
      " 5   products          33000 non-null  object\n",
      " 6   activityControls  33000 non-null  object\n",
      " 7   details           3586 non-null   object\n",
      " 8   description       3481 non-null   object\n",
      "dtypes: object(9)\n",
      "memory usage: 2.3+ MB\n"
     ]
    }
   ],
   "source": [
    "# Print the schema of the DataFrames\n",
    "watch_df.info()\n",
    "\n"
   ]
  },
  {
   "attachments": {},
   "cell_type": "markdown",
   "metadata": {},
   "source": [
    ".head() allows me to see through the first five rows of the data in the dataset"
   ]
  },
  {
   "cell_type": "code",
   "execution_count": 43,
   "metadata": {},
   "outputs": [
    {
     "data": {
      "text/html": [
       "<div>\n",
       "<style scoped>\n",
       "    .dataframe tbody tr th:only-of-type {\n",
       "        vertical-align: middle;\n",
       "    }\n",
       "\n",
       "    .dataframe tbody tr th {\n",
       "        vertical-align: top;\n",
       "    }\n",
       "\n",
       "    .dataframe thead th {\n",
       "        text-align: right;\n",
       "    }\n",
       "</style>\n",
       "<table border=\"1\" class=\"dataframe\">\n",
       "  <thead>\n",
       "    <tr style=\"text-align: right;\">\n",
       "      <th></th>\n",
       "      <th>header</th>\n",
       "      <th>title</th>\n",
       "      <th>titleUrl</th>\n",
       "      <th>subtitles</th>\n",
       "      <th>time</th>\n",
       "      <th>products</th>\n",
       "      <th>activityControls</th>\n",
       "      <th>details</th>\n",
       "      <th>description</th>\n",
       "    </tr>\n",
       "  </thead>\n",
       "  <tbody>\n",
       "    <tr>\n",
       "      <th>0</th>\n",
       "      <td>YouTube</td>\n",
       "      <td>Watched DATA ANALYST PORTFOLIO | 10 PROJECT IDEAS</td>\n",
       "      <td>https://www.youtube.com/watch?v=wObV_hwu2QM</td>\n",
       "      <td>[{'name': 'Data With Mo', 'url': 'https://www....</td>\n",
       "      <td>2023-06-13T05:08:50.583Z</td>\n",
       "      <td>[YouTube]</td>\n",
       "      <td>[YouTube watch history]</td>\n",
       "      <td>NaN</td>\n",
       "      <td>NaN</td>\n",
       "    </tr>\n",
       "    <tr>\n",
       "      <th>1</th>\n",
       "      <td>YouTube</td>\n",
       "      <td>Watched 英文弱底托福備考必看|多益300➡️五戰托福87➡️錄取美國top10名校西...</td>\n",
       "      <td>https://www.youtube.com/watch?v=L22WnGtDXII</td>\n",
       "      <td>[{'name': 'Olivia Hsü', 'url': 'https://www.yo...</td>\n",
       "      <td>2023-06-13T05:02:37.431Z</td>\n",
       "      <td>[YouTube]</td>\n",
       "      <td>[YouTube watch history]</td>\n",
       "      <td>NaN</td>\n",
       "      <td>NaN</td>\n",
       "    </tr>\n",
       "    <tr>\n",
       "      <th>2</th>\n",
       "      <td>YouTube</td>\n",
       "      <td>Watched 為什麼你不需要蘋果M2 Max</td>\n",
       "      <td>https://www.youtube.com/watch?v=GoDzWt6ESh8</td>\n",
       "      <td>[{'name': 'HackBear 泰瑞', 'url': 'https://www.y...</td>\n",
       "      <td>2023-06-13T04:56:05.134Z</td>\n",
       "      <td>[YouTube]</td>\n",
       "      <td>[YouTube watch history]</td>\n",
       "      <td>NaN</td>\n",
       "      <td>NaN</td>\n",
       "    </tr>\n",
       "    <tr>\n",
       "      <th>3</th>\n",
       "      <td>YouTube</td>\n",
       "      <td>Watched HELIX_CGI_MASTHEAD_30_SEC_16X9_ESRB</td>\n",
       "      <td>https://www.youtube.com/watch?v=9X9kI4Mtat0</td>\n",
       "      <td>NaN</td>\n",
       "      <td>2023-06-13T04:55:57.289Z</td>\n",
       "      <td>[YouTube]</td>\n",
       "      <td>[YouTube watch history]</td>\n",
       "      <td>[{'name': 'From Google Ads'}]</td>\n",
       "      <td>NaN</td>\n",
       "    </tr>\n",
       "    <tr>\n",
       "      <th>4</th>\n",
       "      <td>YouTube</td>\n",
       "      <td>Watched 【Uncle Roger】專業歌手Joji和Rich Brian挑戰做泡麵，...</td>\n",
       "      <td>https://www.youtube.com/watch?v=EuffmcKzi0I</td>\n",
       "      <td>[{'name': 'mrnigelng 官方中文頻道', 'url': 'https://...</td>\n",
       "      <td>2023-06-13T04:52:50.100Z</td>\n",
       "      <td>[YouTube]</td>\n",
       "      <td>[YouTube watch history]</td>\n",
       "      <td>NaN</td>\n",
       "      <td>NaN</td>\n",
       "    </tr>\n",
       "  </tbody>\n",
       "</table>\n",
       "</div>"
      ],
      "text/plain": [
       "    header                                              title  \\\n",
       "0  YouTube  Watched DATA ANALYST PORTFOLIO | 10 PROJECT IDEAS   \n",
       "1  YouTube  Watched 英文弱底托福備考必看|多益300➡️五戰托福87➡️錄取美國top10名校西...   \n",
       "2  YouTube                            Watched 為什麼你不需要蘋果M2 Max   \n",
       "3  YouTube        Watched HELIX_CGI_MASTHEAD_30_SEC_16X9_ESRB   \n",
       "4  YouTube  Watched 【Uncle Roger】專業歌手Joji和Rich Brian挑戰做泡麵，...   \n",
       "\n",
       "                                      titleUrl  \\\n",
       "0  https://www.youtube.com/watch?v=wObV_hwu2QM   \n",
       "1  https://www.youtube.com/watch?v=L22WnGtDXII   \n",
       "2  https://www.youtube.com/watch?v=GoDzWt6ESh8   \n",
       "3  https://www.youtube.com/watch?v=9X9kI4Mtat0   \n",
       "4  https://www.youtube.com/watch?v=EuffmcKzi0I   \n",
       "\n",
       "                                           subtitles  \\\n",
       "0  [{'name': 'Data With Mo', 'url': 'https://www....   \n",
       "1  [{'name': 'Olivia Hsü', 'url': 'https://www.yo...   \n",
       "2  [{'name': 'HackBear 泰瑞', 'url': 'https://www.y...   \n",
       "3                                                NaN   \n",
       "4  [{'name': 'mrnigelng 官方中文頻道', 'url': 'https://...   \n",
       "\n",
       "                       time   products         activityControls  \\\n",
       "0  2023-06-13T05:08:50.583Z  [YouTube]  [YouTube watch history]   \n",
       "1  2023-06-13T05:02:37.431Z  [YouTube]  [YouTube watch history]   \n",
       "2  2023-06-13T04:56:05.134Z  [YouTube]  [YouTube watch history]   \n",
       "3  2023-06-13T04:55:57.289Z  [YouTube]  [YouTube watch history]   \n",
       "4  2023-06-13T04:52:50.100Z  [YouTube]  [YouTube watch history]   \n",
       "\n",
       "                         details description  \n",
       "0                            NaN         NaN  \n",
       "1                            NaN         NaN  \n",
       "2                            NaN         NaN  \n",
       "3  [{'name': 'From Google Ads'}]         NaN  \n",
       "4                            NaN         NaN  "
      ]
     },
     "execution_count": 43,
     "metadata": {},
     "output_type": "execute_result"
    }
   ],
   "source": [
    "watch_df.head()"
   ]
  },
  {
   "cell_type": "code",
   "execution_count": 44,
   "metadata": {},
   "outputs": [
    {
     "name": "stdout",
     "output_type": "stream",
     "text": [
      "<class 'pandas.core.frame.DataFrame'>\n",
      "RangeIndex: 11623 entries, 0 to 11622\n",
      "Data columns (total 9 columns):\n",
      " #   Column            Non-Null Count  Dtype \n",
      "---  ------            --------------  ----- \n",
      " 0   header            11623 non-null  object\n",
      " 1   title             11623 non-null  object\n",
      " 2   titleUrl          11621 non-null  object\n",
      " 3   time              11623 non-null  object\n",
      " 4   products          11623 non-null  object\n",
      " 5   activityControls  11623 non-null  object\n",
      " 6   description       3673 non-null   object\n",
      " 7   details           3767 non-null   object\n",
      " 8   subtitles         2 non-null      object\n",
      "dtypes: object(9)\n",
      "memory usage: 817.4+ KB\n"
     ]
    }
   ],
   "source": [
    "search_df.info()"
   ]
  },
  {
   "cell_type": "code",
   "execution_count": 45,
   "metadata": {},
   "outputs": [
    {
     "data": {
      "text/html": [
       "<div>\n",
       "<style scoped>\n",
       "    .dataframe tbody tr th:only-of-type {\n",
       "        vertical-align: middle;\n",
       "    }\n",
       "\n",
       "    .dataframe tbody tr th {\n",
       "        vertical-align: top;\n",
       "    }\n",
       "\n",
       "    .dataframe thead th {\n",
       "        text-align: right;\n",
       "    }\n",
       "</style>\n",
       "<table border=\"1\" class=\"dataframe\">\n",
       "  <thead>\n",
       "    <tr style=\"text-align: right;\">\n",
       "      <th></th>\n",
       "      <th>header</th>\n",
       "      <th>title</th>\n",
       "      <th>titleUrl</th>\n",
       "      <th>time</th>\n",
       "      <th>products</th>\n",
       "      <th>activityControls</th>\n",
       "      <th>description</th>\n",
       "      <th>details</th>\n",
       "      <th>subtitles</th>\n",
       "    </tr>\n",
       "  </thead>\n",
       "  <tbody>\n",
       "    <tr>\n",
       "      <th>0</th>\n",
       "      <td>YouTube</td>\n",
       "      <td>Searched for how to get my own youtube watch h...</td>\n",
       "      <td>https://www.youtube.com/results?search_query=h...</td>\n",
       "      <td>2023-06-13T05:05:03.173Z</td>\n",
       "      <td>[YouTube]</td>\n",
       "      <td>[YouTube search history]</td>\n",
       "      <td>NaN</td>\n",
       "      <td>NaN</td>\n",
       "      <td>NaN</td>\n",
       "    </tr>\n",
       "    <tr>\n",
       "      <th>1</th>\n",
       "      <td>YouTube</td>\n",
       "      <td>Searched for sherlock holmes 2 forest scene</td>\n",
       "      <td>https://www.youtube.com/results?search_query=s...</td>\n",
       "      <td>2023-06-13T03:06:40.690Z</td>\n",
       "      <td>[YouTube]</td>\n",
       "      <td>[YouTube search history]</td>\n",
       "      <td>NaN</td>\n",
       "      <td>NaN</td>\n",
       "      <td>NaN</td>\n",
       "    </tr>\n",
       "    <tr>\n",
       "      <th>2</th>\n",
       "      <td>YouTube</td>\n",
       "      <td>Watched Google Fiber Webpass - We're expanding...</td>\n",
       "      <td>https://www.youtube.com/watch?v=IEwl7VcXEhw</td>\n",
       "      <td>2023-06-12T23:19:37.052Z</td>\n",
       "      <td>[YouTube]</td>\n",
       "      <td>[Web &amp; App Activity, YouTube watch history, Yo...</td>\n",
       "      <td>Watched at 4:19 PM</td>\n",
       "      <td>[{'name': 'From Google Ads'}]</td>\n",
       "      <td>NaN</td>\n",
       "    </tr>\n",
       "    <tr>\n",
       "      <th>3</th>\n",
       "      <td>YouTube</td>\n",
       "      <td>Watched DNU Coding Dojo | Learn Skills for Web...</td>\n",
       "      <td>https://www.youtube.com/watch?v=oI8QFcn8fAM</td>\n",
       "      <td>2023-06-12T23:16:23.084Z</td>\n",
       "      <td>[YouTube]</td>\n",
       "      <td>[Web &amp; App Activity, YouTube watch history, Yo...</td>\n",
       "      <td>Watched at 4:16 PM</td>\n",
       "      <td>[{'name': 'From Google Ads'}]</td>\n",
       "      <td>NaN</td>\n",
       "    </tr>\n",
       "    <tr>\n",
       "      <th>4</th>\n",
       "      <td>YouTube</td>\n",
       "      <td>Watched Pixel 7 Pro - Macro Focus &amp; Super Res ...</td>\n",
       "      <td>https://www.youtube.com/watch?v=j3gvPOK6gc0</td>\n",
       "      <td>2023-06-12T23:07:50.992Z</td>\n",
       "      <td>[YouTube]</td>\n",
       "      <td>[Web &amp; App Activity, YouTube watch history, Yo...</td>\n",
       "      <td>Watched at 4:07 PM</td>\n",
       "      <td>[{'name': 'From Google Ads'}]</td>\n",
       "      <td>NaN</td>\n",
       "    </tr>\n",
       "  </tbody>\n",
       "</table>\n",
       "</div>"
      ],
      "text/plain": [
       "    header                                              title  \\\n",
       "0  YouTube  Searched for how to get my own youtube watch h...   \n",
       "1  YouTube       Searched for sherlock holmes 2 forest scene    \n",
       "2  YouTube  Watched Google Fiber Webpass - We're expanding...   \n",
       "3  YouTube  Watched DNU Coding Dojo | Learn Skills for Web...   \n",
       "4  YouTube  Watched Pixel 7 Pro - Macro Focus & Super Res ...   \n",
       "\n",
       "                                            titleUrl  \\\n",
       "0  https://www.youtube.com/results?search_query=h...   \n",
       "1  https://www.youtube.com/results?search_query=s...   \n",
       "2        https://www.youtube.com/watch?v=IEwl7VcXEhw   \n",
       "3        https://www.youtube.com/watch?v=oI8QFcn8fAM   \n",
       "4        https://www.youtube.com/watch?v=j3gvPOK6gc0   \n",
       "\n",
       "                       time   products  \\\n",
       "0  2023-06-13T05:05:03.173Z  [YouTube]   \n",
       "1  2023-06-13T03:06:40.690Z  [YouTube]   \n",
       "2  2023-06-12T23:19:37.052Z  [YouTube]   \n",
       "3  2023-06-12T23:16:23.084Z  [YouTube]   \n",
       "4  2023-06-12T23:07:50.992Z  [YouTube]   \n",
       "\n",
       "                                    activityControls         description  \\\n",
       "0                           [YouTube search history]                 NaN   \n",
       "1                           [YouTube search history]                 NaN   \n",
       "2  [Web & App Activity, YouTube watch history, Yo...  Watched at 4:19 PM   \n",
       "3  [Web & App Activity, YouTube watch history, Yo...  Watched at 4:16 PM   \n",
       "4  [Web & App Activity, YouTube watch history, Yo...  Watched at 4:07 PM   \n",
       "\n",
       "                         details subtitles  \n",
       "0                            NaN       NaN  \n",
       "1                            NaN       NaN  \n",
       "2  [{'name': 'From Google Ads'}]       NaN  \n",
       "3  [{'name': 'From Google Ads'}]       NaN  \n",
       "4  [{'name': 'From Google Ads'}]       NaN  "
      ]
     },
     "execution_count": 45,
     "metadata": {},
     "output_type": "execute_result"
    }
   ],
   "source": [
    "search_df.head()"
   ]
  },
  {
   "attachments": {},
   "cell_type": "markdown",
   "metadata": {},
   "source": [
    "This leads to me printing out the columns for each datasets, which allows me to compare these lists to see if tehre are any fields present in one dataset but not in the other."
   ]
  },
  {
   "cell_type": "code",
   "execution_count": 46,
   "metadata": {},
   "outputs": [
    {
     "name": "stdout",
     "output_type": "stream",
     "text": [
      "Watch history columns:  ['header', 'title', 'titleUrl', 'subtitles', 'time', 'products', 'activityControls', 'details', 'description']\n",
      "Search history columns:  ['header', 'title', 'titleUrl', 'time', 'products', 'activityControls', 'description', 'details', 'subtitles']\n"
     ]
    }
   ],
   "source": [
    "# Print the columns in each DataFrame\n",
    "print(\"Watch history columns: \", watch_df.columns.tolist())\n",
    "print(\"Search history columns: \", search_df.columns.tolist())"
   ]
  },
  {
   "attachments": {},
   "cell_type": "markdown",
   "metadata": {},
   "source": [
    "For the mapping entries in the search history to entries in the watch history, it is quite challenging because the datasets do not include unique identiers that link a search to a subsequent watch action, however, I make some inferences based on the timestamps. If a watch action occurs shortly after a search action, it is possible that the watch action was a result of the search."
   ]
  },
  {
   "cell_type": "code",
   "execution_count": 47,
   "metadata": {},
   "outputs": [
    {
     "name": "stdout",
     "output_type": "stream",
     "text": [
      "        header                                              title  \\\n",
      "0      YouTube                     Searched for john walker blues   \n",
      "1      YouTube                           Searched for john walker   \n",
      "2      YouTube                      Searched for john walker wine   \n",
      "3      YouTube         Searched for john walker wine keep walking   \n",
      "4      YouTube             Searched for johnnie walker commercial   \n",
      "...        ...                                                ...   \n",
      "11618  YouTube  Watched Pixel 7 Pro - Macro Focus & Super Res ...   \n",
      "11619  YouTube  Watched DNU Coding Dojo | Learn Skills for Web...   \n",
      "11620  YouTube  Watched Google Fiber Webpass - We're expanding...   \n",
      "11621  YouTube       Searched for sherlock holmes 2 forest scene    \n",
      "11622  YouTube  Searched for how to get my own youtube watch h...   \n",
      "\n",
      "                                                titleUrl  \\\n",
      "0      https://www.youtube.com/results?search_query=j...   \n",
      "1      https://www.youtube.com/results?search_query=j...   \n",
      "2      https://www.youtube.com/results?search_query=j...   \n",
      "3      https://www.youtube.com/results?search_query=j...   \n",
      "4      https://www.youtube.com/results?search_query=j...   \n",
      "...                                                  ...   \n",
      "11618        https://www.youtube.com/watch?v=j3gvPOK6gc0   \n",
      "11619        https://www.youtube.com/watch?v=oI8QFcn8fAM   \n",
      "11620        https://www.youtube.com/watch?v=IEwl7VcXEhw   \n",
      "11621  https://www.youtube.com/results?search_query=s...   \n",
      "11622  https://www.youtube.com/results?search_query=h...   \n",
      "\n",
      "                                  time   products  \\\n",
      "0     2019-03-10 22:00:46.448000+00:00  [YouTube]   \n",
      "1     2019-03-10 22:00:59.580000+00:00  [YouTube]   \n",
      "2     2019-03-10 22:01:28.304000+00:00  [YouTube]   \n",
      "3     2019-03-10 22:01:39.089000+00:00  [YouTube]   \n",
      "4     2019-03-10 22:01:44.455000+00:00  [YouTube]   \n",
      "...                                ...        ...   \n",
      "11618 2023-06-12 23:07:50.992000+00:00  [YouTube]   \n",
      "11619 2023-06-12 23:16:23.084000+00:00  [YouTube]   \n",
      "11620 2023-06-12 23:19:37.052000+00:00  [YouTube]   \n",
      "11621 2023-06-13 03:06:40.690000+00:00  [YouTube]   \n",
      "11622 2023-06-13 05:05:03.173000+00:00  [YouTube]   \n",
      "\n",
      "                                        activityControls         description  \\\n",
      "0                               [YouTube search history]                 NaN   \n",
      "1                               [YouTube search history]                 NaN   \n",
      "2                               [YouTube search history]                 NaN   \n",
      "3                               [YouTube search history]                 NaN   \n",
      "4                               [YouTube search history]                 NaN   \n",
      "...                                                  ...                 ...   \n",
      "11618  [Web & App Activity, YouTube watch history, Yo...  Watched at 4:07 PM   \n",
      "11619  [Web & App Activity, YouTube watch history, Yo...  Watched at 4:16 PM   \n",
      "11620  [Web & App Activity, YouTube watch history, Yo...  Watched at 4:19 PM   \n",
      "11621                           [YouTube search history]                 NaN   \n",
      "11622                           [YouTube search history]                 NaN   \n",
      "\n",
      "                             details subtitles  \\\n",
      "0                                NaN       NaN   \n",
      "1                                NaN       NaN   \n",
      "2                                NaN       NaN   \n",
      "3                                NaN       NaN   \n",
      "4                                NaN       NaN   \n",
      "...                              ...       ...   \n",
      "11618  [{'name': 'From Google Ads'}]       NaN   \n",
      "11619  [{'name': 'From Google Ads'}]       NaN   \n",
      "11620  [{'name': 'From Google Ads'}]       NaN   \n",
      "11621                            NaN       NaN   \n",
      "11622                            NaN       NaN   \n",
      "\n",
      "                                              next_watch  \n",
      "0      Watched https://www.youtube.com/watch?v=aJzj4j...  \n",
      "1      Watched https://www.youtube.com/watch?v=aJzj4j...  \n",
      "2      Watched https://www.youtube.com/watch?v=aJzj4j...  \n",
      "3      Watched https://www.youtube.com/watch?v=aJzj4j...  \n",
      "4      Watched https://www.youtube.com/watch?v=aJzj4j...  \n",
      "...                                                  ...  \n",
      "11618  Watched 美國UIUX設計師遠端工作面試的一天|如何準備白板挑戰tips｜祝大家求職順...  \n",
      "11619            Watched This resume got me 8 job offers  \n",
      "11620  Watched Data Scientist vs Data Analyst vs Data...  \n",
      "11621  Watched Sherlock Holmes: A Game of Shadows (20...  \n",
      "11622                                               None  \n",
      "\n",
      "[11623 rows x 10 columns]\n"
     ]
    }
   ],
   "source": [
    "# Convert 'time' to datetime format in both DataFrames\n",
    "watch_df['time'] = pd.to_datetime(watch_df['time'])\n",
    "search_df['time'] = pd.to_datetime(search_df['time'])\n",
    "\n",
    "# Sort both DataFrames by 'time'\n",
    "watch_df = watch_df.sort_values('time')\n",
    "search_df = search_df.sort_values('time')\n",
    "\n",
    "# Reset the indices of both DataFrames\n",
    "watch_df = watch_df.reset_index(drop=True)\n",
    "search_df = search_df.reset_index(drop=True)\n",
    "\n",
    "# For each search, find the next watch action\n",
    "search_df['next_watch'] = None\n",
    "for i in range(len(search_df) - 1):\n",
    "    # Find the next watch action that occured after the search\n",
    "    next_watch = watch_df[watch_df['time'] > search_df.loc[i, 'time']].iloc[0]\n",
    "    search_df.loc[i, 'next_watch'] = next_watch['title']\n",
    "\n",
    "print(search_df)\n"
   ]
  },
  {
   "attachments": {},
   "cell_type": "markdown",
   "metadata": {},
   "source": [
    "This allows me to explore my youtube watch and search history's range of dates coverage"
   ]
  },
  {
   "cell_type": "code",
   "execution_count": 48,
   "metadata": {},
   "outputs": [
    {
     "name": "stdout",
     "output_type": "stream",
     "text": [
      "Watch history date range: 2021-12-14 21:32:58.834000+00:00 to 2023-06-13 05:08:50.583000+00:00\n",
      "Search history date range: 2019-03-10 22:00:46.448000+00:00 to 2023-06-13 05:05:03.173000+00:00\n"
     ]
    }
   ],
   "source": [
    "# Get the minimum and maximum times in the watch history\n",
    "watch_min_date = watch_df['time'].min()\n",
    "watch_max_date = watch_df['time'].max()\n",
    "\n",
    "# Get the minimum and maximum times in the search history\n",
    "search_min_date = search_df['time'].min()\n",
    "search_max_date = search_df['time'].max()\n",
    "\n",
    "print(f\"Watch history date range: {watch_min_date} to {watch_max_date}\")\n",
    "print(f\"Search history date range: {search_min_date} to {search_max_date}\")\n"
   ]
  },
  {
   "attachments": {},
   "cell_type": "markdown",
   "metadata": {},
   "source": [
    "## 2. Data Cleaning\n",
    "\n",
    "I merged the two datasets to create a unified datasets by concatenating the two dataframes along the time axis."
   ]
  },
  {
   "cell_type": "code",
   "execution_count": 49,
   "metadata": {},
   "outputs": [],
   "source": [
    "watch_df = watch_df.dropna(subset=['titleUrl'])\n",
    "search_df = search_df.dropna(subset=['titleUrl'])\n"
   ]
  },
  {
   "cell_type": "code",
   "execution_count": 50,
   "metadata": {},
   "outputs": [],
   "source": [
    "watch_df = watch_df.fillna(\"NA\")\n",
    "search_df = search_df.fillna(\"NA\")"
   ]
  },
  {
   "cell_type": "code",
   "execution_count": 51,
   "metadata": {},
   "outputs": [],
   "source": [
    "# Concatenate the two datasets\n",
    "combined_df = pd.concat([watch_df, search_df])\n",
    "\n",
    "# Sort by time\n",
    "combined_df = combined_df.sort_values(by='time')\n",
    "\n",
    "# Reset index\n",
    "combined_df = combined_df.reset_index(drop=True)\n",
    "\n",
    "combined_df = combined_df.fillna(\"NA\")\n",
    "\n"
   ]
  },
  {
   "cell_type": "code",
   "execution_count": 52,
   "metadata": {},
   "outputs": [
    {
     "data": {
      "text/html": [
       "<div>\n",
       "<style scoped>\n",
       "    .dataframe tbody tr th:only-of-type {\n",
       "        vertical-align: middle;\n",
       "    }\n",
       "\n",
       "    .dataframe tbody tr th {\n",
       "        vertical-align: top;\n",
       "    }\n",
       "\n",
       "    .dataframe thead th {\n",
       "        text-align: right;\n",
       "    }\n",
       "</style>\n",
       "<table border=\"1\" class=\"dataframe\">\n",
       "  <thead>\n",
       "    <tr style=\"text-align: right;\">\n",
       "      <th></th>\n",
       "      <th>header</th>\n",
       "      <th>title</th>\n",
       "      <th>titleUrl</th>\n",
       "      <th>subtitles</th>\n",
       "      <th>time</th>\n",
       "      <th>products</th>\n",
       "      <th>activityControls</th>\n",
       "      <th>details</th>\n",
       "      <th>description</th>\n",
       "      <th>next_watch</th>\n",
       "    </tr>\n",
       "  </thead>\n",
       "  <tbody>\n",
       "    <tr>\n",
       "      <th>0</th>\n",
       "      <td>YouTube</td>\n",
       "      <td>Searched for john walker blues</td>\n",
       "      <td>https://www.youtube.com/results?search_query=j...</td>\n",
       "      <td>NA</td>\n",
       "      <td>2019-03-10 22:00:46.448000+00:00</td>\n",
       "      <td>[YouTube]</td>\n",
       "      <td>[YouTube search history]</td>\n",
       "      <td>NA</td>\n",
       "      <td>NA</td>\n",
       "      <td>Watched https://www.youtube.com/watch?v=aJzj4j...</td>\n",
       "    </tr>\n",
       "    <tr>\n",
       "      <th>1</th>\n",
       "      <td>YouTube</td>\n",
       "      <td>Searched for john walker</td>\n",
       "      <td>https://www.youtube.com/results?search_query=j...</td>\n",
       "      <td>NA</td>\n",
       "      <td>2019-03-10 22:00:59.580000+00:00</td>\n",
       "      <td>[YouTube]</td>\n",
       "      <td>[YouTube search history]</td>\n",
       "      <td>NA</td>\n",
       "      <td>NA</td>\n",
       "      <td>Watched https://www.youtube.com/watch?v=aJzj4j...</td>\n",
       "    </tr>\n",
       "    <tr>\n",
       "      <th>2</th>\n",
       "      <td>YouTube</td>\n",
       "      <td>Searched for john walker wine</td>\n",
       "      <td>https://www.youtube.com/results?search_query=j...</td>\n",
       "      <td>NA</td>\n",
       "      <td>2019-03-10 22:01:28.304000+00:00</td>\n",
       "      <td>[YouTube]</td>\n",
       "      <td>[YouTube search history]</td>\n",
       "      <td>NA</td>\n",
       "      <td>NA</td>\n",
       "      <td>Watched https://www.youtube.com/watch?v=aJzj4j...</td>\n",
       "    </tr>\n",
       "    <tr>\n",
       "      <th>3</th>\n",
       "      <td>YouTube</td>\n",
       "      <td>Searched for john walker wine keep walking</td>\n",
       "      <td>https://www.youtube.com/results?search_query=j...</td>\n",
       "      <td>NA</td>\n",
       "      <td>2019-03-10 22:01:39.089000+00:00</td>\n",
       "      <td>[YouTube]</td>\n",
       "      <td>[YouTube search history]</td>\n",
       "      <td>NA</td>\n",
       "      <td>NA</td>\n",
       "      <td>Watched https://www.youtube.com/watch?v=aJzj4j...</td>\n",
       "    </tr>\n",
       "    <tr>\n",
       "      <th>4</th>\n",
       "      <td>YouTube</td>\n",
       "      <td>Searched for johnnie walker commercial</td>\n",
       "      <td>https://www.youtube.com/results?search_query=j...</td>\n",
       "      <td>NA</td>\n",
       "      <td>2019-03-10 22:01:44.455000+00:00</td>\n",
       "      <td>[YouTube]</td>\n",
       "      <td>[YouTube search history]</td>\n",
       "      <td>NA</td>\n",
       "      <td>NA</td>\n",
       "      <td>Watched https://www.youtube.com/watch?v=aJzj4j...</td>\n",
       "    </tr>\n",
       "  </tbody>\n",
       "</table>\n",
       "</div>"
      ],
      "text/plain": [
       "    header                                       title  \\\n",
       "0  YouTube              Searched for john walker blues   \n",
       "1  YouTube                    Searched for john walker   \n",
       "2  YouTube               Searched for john walker wine   \n",
       "3  YouTube  Searched for john walker wine keep walking   \n",
       "4  YouTube      Searched for johnnie walker commercial   \n",
       "\n",
       "                                            titleUrl subtitles  \\\n",
       "0  https://www.youtube.com/results?search_query=j...        NA   \n",
       "1  https://www.youtube.com/results?search_query=j...        NA   \n",
       "2  https://www.youtube.com/results?search_query=j...        NA   \n",
       "3  https://www.youtube.com/results?search_query=j...        NA   \n",
       "4  https://www.youtube.com/results?search_query=j...        NA   \n",
       "\n",
       "                              time   products          activityControls  \\\n",
       "0 2019-03-10 22:00:46.448000+00:00  [YouTube]  [YouTube search history]   \n",
       "1 2019-03-10 22:00:59.580000+00:00  [YouTube]  [YouTube search history]   \n",
       "2 2019-03-10 22:01:28.304000+00:00  [YouTube]  [YouTube search history]   \n",
       "3 2019-03-10 22:01:39.089000+00:00  [YouTube]  [YouTube search history]   \n",
       "4 2019-03-10 22:01:44.455000+00:00  [YouTube]  [YouTube search history]   \n",
       "\n",
       "  details description                                         next_watch  \n",
       "0      NA          NA  Watched https://www.youtube.com/watch?v=aJzj4j...  \n",
       "1      NA          NA  Watched https://www.youtube.com/watch?v=aJzj4j...  \n",
       "2      NA          NA  Watched https://www.youtube.com/watch?v=aJzj4j...  \n",
       "3      NA          NA  Watched https://www.youtube.com/watch?v=aJzj4j...  \n",
       "4      NA          NA  Watched https://www.youtube.com/watch?v=aJzj4j...  "
      ]
     },
     "execution_count": 52,
     "metadata": {},
     "output_type": "execute_result"
    }
   ],
   "source": [
    "combined_df.head()"
   ]
  },
  {
   "cell_type": "code",
   "execution_count": 53,
   "metadata": {},
   "outputs": [
    {
     "name": "stdout",
     "output_type": "stream",
     "text": [
      "<class 'pandas.core.frame.DataFrame'>\n",
      "RangeIndex: 44325 entries, 0 to 44324\n",
      "Data columns (total 10 columns):\n",
      " #   Column            Non-Null Count  Dtype              \n",
      "---  ------            --------------  -----              \n",
      " 0   header            44325 non-null  object             \n",
      " 1   title             44325 non-null  object             \n",
      " 2   titleUrl          44325 non-null  object             \n",
      " 3   subtitles         44325 non-null  object             \n",
      " 4   time              44325 non-null  datetime64[ns, UTC]\n",
      " 5   products          44325 non-null  object             \n",
      " 6   activityControls  44325 non-null  object             \n",
      " 7   details           44325 non-null  object             \n",
      " 8   description       44325 non-null  object             \n",
      " 9   next_watch        44325 non-null  object             \n",
      "dtypes: datetime64[ns, UTC](1), object(9)\n",
      "memory usage: 3.4+ MB\n"
     ]
    }
   ],
   "source": [
    "combined_df.info()"
   ]
  },
  {
   "attachments": {},
   "cell_type": "markdown",
   "metadata": {},
   "source": [
    "In this section, I am checking for missing values in our datasets. Missing values can present challenges during the analysis phase, and it's important to identify where these missing values exist so that we can make informed decisions about how to handle them.\n",
    "\n",
    "I will perform this check on the watch history, search history, and the combined history datasets separately.\n",
    "\n",
    "Watch History Missing Values Check: This code checks for any missing or NaN values in the watch history dataset (watch_df). The isnull() function will return a DataFrame where each cell is either True (if the original cell is null) or False (if the cell is not null). The sum() function then adds up the True values column-wise, providing a count of missing values for each column in watch_df.\n",
    "\n",
    "Search History Missing Values Check: Similarly, this code checks for any missing values in the search history dataset (search_df).\n",
    "\n",
    "Combined History Missing Values Check: Finally, we check for missing values in the combined dataset (combined_df), which includes both watch and search history data.\n",
    "\n",
    "The print statements will output the number of missing values in each column of the respective datasets. If a column has zero missing values, it means that every record in that column has a value. However, if a column has a number greater than zero, it indicates that some records are missing data in that column.\n",
    "\n",
    "In the next step of the analysis, we would need to decide how to handle these missing values, which might include filling in the missing data (if applicable), or excluding the affected records from certain parts of the analysis."
   ]
  },
  {
   "cell_type": "code",
   "execution_count": 54,
   "metadata": {},
   "outputs": [
    {
     "name": "stdout",
     "output_type": "stream",
     "text": [
      "header              0\n",
      "title               0\n",
      "titleUrl            0\n",
      "subtitles           0\n",
      "time                0\n",
      "products            0\n",
      "activityControls    0\n",
      "details             0\n",
      "description         0\n",
      "dtype: int64\n",
      "header              0\n",
      "title               0\n",
      "titleUrl            0\n",
      "time                0\n",
      "products            0\n",
      "activityControls    0\n",
      "description         0\n",
      "details             0\n",
      "subtitles           0\n",
      "next_watch          0\n",
      "dtype: int64\n",
      "header              0\n",
      "title               0\n",
      "titleUrl            0\n",
      "subtitles           0\n",
      "time                0\n",
      "products            0\n",
      "activityControls    0\n",
      "details             0\n",
      "description         0\n",
      "next_watch          0\n",
      "dtype: int64\n"
     ]
    }
   ],
   "source": [
    "# Check for missing values in the watch history\n",
    "print(watch_df.isnull().sum())\n",
    "\n",
    "# Check for missing values in the search history\n",
    "print(search_df.isnull().sum())\n",
    "\n",
    "# Check for missing values in the combined history\n",
    "print(combined_df.isnull().sum())\n"
   ]
  },
  {
   "attachments": {},
   "cell_type": "markdown",
   "metadata": {},
   "source": [
    "## 3. Exploratory Data Analysis"
   ]
  },
  {
   "attachments": {},
   "cell_type": "markdown",
   "metadata": {},
   "source": [
    "In this section, I wanted to know how my watch frequency fluctuates during the hours of the day and days of the week. First I created two columns: 'hour' and 'day_of_week'. These columns are derived from the 'time' column and will make it easier to analyze the distribution of watch times throughout the day and week"
   ]
  },
  {
   "cell_type": "code",
   "execution_count": 55,
   "metadata": {},
   "outputs": [],
   "source": [
    "# Create a new column for the hour of the day\n",
    "watch_df['hour'] = watch_df['time'].dt.hour\n",
    "\n",
    "# Create a new column for the day of the week\n",
    "watch_df['day_of_week'] = watch_df['time'].dt.day_name()  # or dt.dayofweek for numerical representation\n"
   ]
  },
  {
   "attachments": {},
   "cell_type": "markdown",
   "metadata": {},
   "source": [
    "Here I am calculating the frequency of video watches for each hour of the day and each day of the week. then I am normalizing these frequencies by the total number of days in the dataset to get the average number of videos watched per day at each hour and on each day of the week"
   ]
  },
  {
   "cell_type": "code",
   "execution_count": 56,
   "metadata": {},
   "outputs": [],
   "source": [
    "# Frequency of watches for each hour\n",
    "hourly_distribution = watch_df['hour'].value_counts().sort_index()\n",
    "\n",
    "# Frequency of watches for each day of the week\n",
    "weekly_distribution = watch_df['day_of_week'].value_counts()\n",
    "\n",
    "# Calculate the number of days in the data range\n",
    "num_days = (watch_df['time'].max() - watch_df['time'].min()).days\n",
    "\n",
    "# Normalize the hourly and weekly distributions by the number of days\n",
    "hourly_distribution = hourly_distribution / num_days\n",
    "weekly_distribution = weekly_distribution / num_days\n"
   ]
  },
  {
   "attachments": {},
   "cell_type": "markdown",
   "metadata": {},
   "source": [
    "Now I am visualizing the data I have computed in the previous code chunk. The first plot shows the average number of videos watched per day at each hour, and the second plot shows the average number of videos watched per day on each day of the week. There plots help me better understand my Youtube watching habits"
   ]
  },
  {
   "cell_type": "code",
   "execution_count": 57,
   "metadata": {},
   "outputs": [
    {
     "data": {
      "image/png": "[encoded data removed]",
      "text/plain": [
       "<Figure size 1200x600 with 1 Axes>"
      ]
     },
     "metadata": {},
     "output_type": "display_data"
    },
    {
     "data": {
      "image/png": "[encoded data removed]",
      "text/plain": [
       "<Figure size 1200x600 with 1 Axes>"
      ]
     },
     "metadata": {},
     "output_type": "display_data"
    }
   ],
   "source": [
    "# Plot the average number of videos watched per day for each hour\n",
    "hourly_distribution.plot(kind='bar', figsize=(12,6))\n",
    "plt.title('Average Number of Videos Watched per Day by Hour')\n",
    "plt.xlabel('Hour of the Day')\n",
    "plt.ylabel('Average Number of Videos Watched')\n",
    "plt.show()\n",
    "\n",
    "# Plot the average number of videos watched per day for each day of the week\n",
    "weekly_distribution = weekly_distribution.reindex(['Monday', 'Tuesday', 'Wednesday', 'Thursday', 'Friday', 'Saturday', 'Sunday'])  # to ensure the days of the week are in order\n",
    "weekly_distribution.plot(kind='bar', figsize=(12,6))\n",
    "plt.title('Average Number of Videos Watched per Day by Day of the Week')\n",
    "plt.xlabel('Day of the Week')\n",
    "plt.ylabel('Average Number of Videos Watched')\n",
    "plt.show()\n",
    "\n"
   ]
  },
  {
   "attachments": {},
   "cell_type": "markdown",
   "metadata": {},
   "source": [
    "This code is similar to what I have coded just now. I am calculating the frequency of video watches for each hour of the day and each day of the week. However, unlike in the previous code chunk, I am not normalizing these frequencies by the number of days in the dataset"
   ]
  },
  {
   "cell_type": "code",
   "execution_count": 58,
   "metadata": {},
   "outputs": [],
   "source": [
    "# Frequency of watches for each hour\n",
    "hourly_distribution = watch_df['hour'].value_counts().sort_index()\n",
    "\n",
    "# Frequency of watches for each day of the week\n",
    "weekly_distribution = watch_df['day_of_week'].value_counts()\n",
    "\n"
   ]
  },
  {
   "attachments": {},
   "cell_type": "markdown",
   "metadata": {},
   "source": [
    "Lastly, I am again visualizing the data, but this time I am showing the cumulative distribution of watch times thoughout the day and week. This allows me to see the total number of videos watched at each hour and on each day of the week over the entire duration of the dataset. These plots provide a holistic view of my YouTube watching habits, rather than the average daily habits I visualized earleir."
   ]
  },
  {
   "cell_type": "code",
   "execution_count": 59,
   "metadata": {},
   "outputs": [
    {
     "data": {
      "image/png": "[encoded data removed]",
      "text/plain": [
       "<Figure size 1000x600 with 1 Axes>"
      ]
     },
     "metadata": {},
     "output_type": "display_data"
    },
    {
     "data": {
      "image/png": "[encoded data removed]",
      "text/plain": [
       "<Figure size 1000x600 with 1 Axes>"
      ]
     },
     "metadata": {},
     "output_type": "display_data"
    }
   ],
   "source": [
    "import matplotlib.pyplot as plt\n",
    "\n",
    "# Plot the hourly distribution\n",
    "plt.figure(figsize=(10, 6))\n",
    "plt.bar(hourly_distribution.index, hourly_distribution.values)\n",
    "plt.xlabel('Hour of the Day')\n",
    "plt.ylabel('Number of Videos Watched')\n",
    "plt.title('Cumulative Distribution of Watch Times Throughout the Day')\n",
    "plt.show()\n",
    "\n",
    "# Plot the weekly distribution\n",
    "plt.figure(figsize=(10, 6))\n",
    "plt.bar(weekly_distribution.index, weekly_distribution.values)\n",
    "plt.xlabel('Day of the Week')\n",
    "plt.ylabel('Number of Videos Watched')\n",
    "plt.title('Cumulative Distribution of Watch Times Throughout the Week')\n",
    "plt.show()\n"
   ]
  },
  {
   "attachments": {},
   "cell_type": "markdown",
   "metadata": {},
   "source": [
    "For this part, I wanted to know how my YouTube usage has changed over time, to determine that whether I watched more or fewer videos now than in the past. I first extract the date from the 'time' column. This can be done using dt.date attribute in the pandas"
   ]
  },
  {
   "cell_type": "code",
   "execution_count": 60,
   "metadata": {},
   "outputs": [],
   "source": [
    "watch_df['date'] = watch_df['time'].dt.date"
   ]
  },
  {
   "attachments": {},
   "cell_type": "markdown",
   "metadata": {},
   "source": [
    "Then I count the number of videos watched each day by using the 'value_counts()' function and sort them by date:"
   ]
  },
  {
   "cell_type": "code",
   "execution_count": 61,
   "metadata": {},
   "outputs": [],
   "source": [
    "watch_counts_by_date = watch_df['date'].value_counts().sort_index()\n"
   ]
  },
  {
   "attachments": {},
   "cell_type": "markdown",
   "metadata": {},
   "source": [
    "Finally I can visualize the data with a line plot to show the trend of YouTube usage over time:"
   ]
  },
  {
   "cell_type": "code",
   "execution_count": 62,
   "metadata": {},
   "outputs": [
    {
     "data": {
      "image/png": "[encoded data removed]",
      "text/plain": [
       "<Figure size 1200x600 with 1 Axes>"
      ]
     },
     "metadata": {},
     "output_type": "display_data"
    }
   ],
   "source": [
    "plt.figure(figsize=(12,6))\n",
    "watch_counts_by_date.plot(kind='line')\n",
    "plt.title('YouTube Usage Over Time')\n",
    "plt.xlabel('Date')\n",
    "plt.ylabel('Number of Videos Watched')\n",
    "plt.show()"
   ]
  },
  {
   "attachments": {},
   "cell_type": "markdown",
   "metadata": {},
   "source": [
    "It looks hard to tell, I can watch more videos in some months but watch less videos in different months. After this, I want to know what the most common channels I watch throughout the time"
   ]
  },
  {
   "attachments": {},
   "cell_type": "markdown",
   "metadata": {},
   "source": [
    "In this part, I want to figure out what First I need to get rid of the NA values from the subtitles column such that the most "
   ]
  },
  {
   "cell_type": "code",
   "execution_count": 64,
   "metadata": {},
   "outputs": [],
   "source": [
    "invalid_entries = watch_df['subtitles'] == 'NA'\n",
    "watch_df = watch_df[~invalid_entries]\n"
   ]
  },
  {
   "cell_type": "code",
   "execution_count": 65,
   "metadata": {},
   "outputs": [
    {
     "data": {
      "text/html": [
       "<div>\n",
       "<style scoped>\n",
       "    .dataframe tbody tr th:only-of-type {\n",
       "        vertical-align: middle;\n",
       "    }\n",
       "\n",
       "    .dataframe tbody tr th {\n",
       "        vertical-align: top;\n",
       "    }\n",
       "\n",
       "    .dataframe thead th {\n",
       "        text-align: right;\n",
       "    }\n",
       "</style>\n",
       "<table border=\"1\" class=\"dataframe\">\n",
       "  <thead>\n",
       "    <tr style=\"text-align: right;\">\n",
       "      <th></th>\n",
       "      <th>header</th>\n",
       "      <th>title</th>\n",
       "      <th>titleUrl</th>\n",
       "      <th>subtitles</th>\n",
       "      <th>time</th>\n",
       "      <th>products</th>\n",
       "      <th>activityControls</th>\n",
       "      <th>details</th>\n",
       "      <th>description</th>\n",
       "      <th>hour</th>\n",
       "      <th>day_of_week</th>\n",
       "      <th>date</th>\n",
       "    </tr>\n",
       "  </thead>\n",
       "  <tbody>\n",
       "    <tr>\n",
       "      <th>101</th>\n",
       "      <td>YouTube</td>\n",
       "      <td>Watched 为什么猪场里一定不能养猫呢？</td>\n",
       "      <td>https://www.youtube.com/watch?v=crxP2epmEPo</td>\n",
       "      <td>[{'name': '笑笑科普', 'url': 'https://www.youtube....</td>\n",
       "      <td>2021-12-14 23:30:36.287000+00:00</td>\n",
       "      <td>[YouTube]</td>\n",
       "      <td>[YouTube watch history]</td>\n",
       "      <td>NA</td>\n",
       "      <td>NA</td>\n",
       "      <td>23</td>\n",
       "      <td>Tuesday</td>\n",
       "      <td>2021-12-14</td>\n",
       "    </tr>\n",
       "    <tr>\n",
       "      <th>102</th>\n",
       "      <td>YouTube</td>\n",
       "      <td>Watched 普京回击中国威胁论：拿中国来吓唬我的人，自己被吓坏了。</td>\n",
       "      <td>https://www.youtube.com/watch?v=aJJVGSBlY0I</td>\n",
       "      <td>[{'name': 'fearless4L9', 'url': 'https://www.y...</td>\n",
       "      <td>2021-12-14 23:30:59.543000+00:00</td>\n",
       "      <td>[YouTube]</td>\n",
       "      <td>[YouTube watch history]</td>\n",
       "      <td>NA</td>\n",
       "      <td>NA</td>\n",
       "      <td>23</td>\n",
       "      <td>Tuesday</td>\n",
       "      <td>2021-12-14</td>\n",
       "    </tr>\n",
       "    <tr>\n",
       "      <th>103</th>\n",
       "      <td>YouTube</td>\n",
       "      <td>Watched 成年人的崩溃往往只在一瞬间</td>\n",
       "      <td>https://www.youtube.com/watch?v=X-wdFK8N41g</td>\n",
       "      <td>[{'name': '文化红人馆', 'url': 'https://www.youtube...</td>\n",
       "      <td>2021-12-14 23:31:15.680000+00:00</td>\n",
       "      <td>[YouTube]</td>\n",
       "      <td>[YouTube watch history]</td>\n",
       "      <td>NA</td>\n",
       "      <td>NA</td>\n",
       "      <td>23</td>\n",
       "      <td>Tuesday</td>\n",
       "      <td>2021-12-14</td>\n",
       "    </tr>\n",
       "    <tr>\n",
       "      <th>105</th>\n",
       "      <td>YouTube</td>\n",
       "      <td>Watched POWER OF A PREY TO PROTECT ITS SELF FR...</td>\n",
       "      <td>https://www.youtube.com/watch?v=W5u99192qIA</td>\n",
       "      <td>[{'name': 'karan@ YT', 'url': 'https://www.you...</td>\n",
       "      <td>2021-12-14 23:31:31.566000+00:00</td>\n",
       "      <td>[YouTube]</td>\n",
       "      <td>[YouTube watch history]</td>\n",
       "      <td>NA</td>\n",
       "      <td>NA</td>\n",
       "      <td>23</td>\n",
       "      <td>Tuesday</td>\n",
       "      <td>2021-12-14</td>\n",
       "    </tr>\n",
       "    <tr>\n",
       "      <th>106</th>\n",
       "      <td>YouTube</td>\n",
       "      <td>Watched 下暴雪时高铁是怎样运行的？</td>\n",
       "      <td>https://www.youtube.com/watch?v=-ZIXUW9CerY</td>\n",
       "      <td>[{'name': '笑笑科普', 'url': 'https://www.youtube....</td>\n",
       "      <td>2021-12-14 23:31:45.222000+00:00</td>\n",
       "      <td>[YouTube]</td>\n",
       "      <td>[YouTube watch history]</td>\n",
       "      <td>NA</td>\n",
       "      <td>NA</td>\n",
       "      <td>23</td>\n",
       "      <td>Tuesday</td>\n",
       "      <td>2021-12-14</td>\n",
       "    </tr>\n",
       "    <tr>\n",
       "      <th>...</th>\n",
       "      <td>...</td>\n",
       "      <td>...</td>\n",
       "      <td>...</td>\n",
       "      <td>...</td>\n",
       "      <td>...</td>\n",
       "      <td>...</td>\n",
       "      <td>...</td>\n",
       "      <td>...</td>\n",
       "      <td>...</td>\n",
       "      <td>...</td>\n",
       "      <td>...</td>\n",
       "      <td>...</td>\n",
       "    </tr>\n",
       "    <tr>\n",
       "      <th>32994</th>\n",
       "      <td>YouTube</td>\n",
       "      <td>Watched Uncle Roger羅傑叔叔本人來啦！｜mrnigelng官方中文頻道</td>\n",
       "      <td>https://www.youtube.com/watch?v=Kx90uOg_QXM</td>\n",
       "      <td>[{'name': 'mrnigelng 官方中文頻道', 'url': 'https://...</td>\n",
       "      <td>2023-06-13 04:52:18.569000+00:00</td>\n",
       "      <td>[YouTube]</td>\n",
       "      <td>[YouTube watch history]</td>\n",
       "      <td>NA</td>\n",
       "      <td>NA</td>\n",
       "      <td>4</td>\n",
       "      <td>Tuesday</td>\n",
       "      <td>2023-06-13</td>\n",
       "    </tr>\n",
       "    <tr>\n",
       "      <th>32995</th>\n",
       "      <td>YouTube</td>\n",
       "      <td>Watched 【Uncle Roger】專業歌手Joji和Rich Brian挑戰做泡麵，...</td>\n",
       "      <td>https://www.youtube.com/watch?v=EuffmcKzi0I</td>\n",
       "      <td>[{'name': 'mrnigelng 官方中文頻道', 'url': 'https://...</td>\n",
       "      <td>2023-06-13 04:52:50.100000+00:00</td>\n",
       "      <td>[YouTube]</td>\n",
       "      <td>[YouTube watch history]</td>\n",
       "      <td>NA</td>\n",
       "      <td>NA</td>\n",
       "      <td>4</td>\n",
       "      <td>Tuesday</td>\n",
       "      <td>2023-06-13</td>\n",
       "    </tr>\n",
       "    <tr>\n",
       "      <th>32997</th>\n",
       "      <td>YouTube</td>\n",
       "      <td>Watched 為什麼你不需要蘋果M2 Max</td>\n",
       "      <td>https://www.youtube.com/watch?v=GoDzWt6ESh8</td>\n",
       "      <td>[{'name': 'HackBear 泰瑞', 'url': 'https://www.y...</td>\n",
       "      <td>2023-06-13 04:56:05.134000+00:00</td>\n",
       "      <td>[YouTube]</td>\n",
       "      <td>[YouTube watch history]</td>\n",
       "      <td>NA</td>\n",
       "      <td>NA</td>\n",
       "      <td>4</td>\n",
       "      <td>Tuesday</td>\n",
       "      <td>2023-06-13</td>\n",
       "    </tr>\n",
       "    <tr>\n",
       "      <th>32998</th>\n",
       "      <td>YouTube</td>\n",
       "      <td>Watched 英文弱底托福備考必看|多益300➡️五戰托福87➡️錄取美國top10名校西...</td>\n",
       "      <td>https://www.youtube.com/watch?v=L22WnGtDXII</td>\n",
       "      <td>[{'name': 'Olivia Hsü', 'url': 'https://www.yo...</td>\n",
       "      <td>2023-06-13 05:02:37.431000+00:00</td>\n",
       "      <td>[YouTube]</td>\n",
       "      <td>[YouTube watch history]</td>\n",
       "      <td>NA</td>\n",
       "      <td>NA</td>\n",
       "      <td>5</td>\n",
       "      <td>Tuesday</td>\n",
       "      <td>2023-06-13</td>\n",
       "    </tr>\n",
       "    <tr>\n",
       "      <th>32999</th>\n",
       "      <td>YouTube</td>\n",
       "      <td>Watched DATA ANALYST PORTFOLIO | 10 PROJECT IDEAS</td>\n",
       "      <td>https://www.youtube.com/watch?v=wObV_hwu2QM</td>\n",
       "      <td>[{'name': 'Data With Mo', 'url': 'https://www....</td>\n",
       "      <td>2023-06-13 05:08:50.583000+00:00</td>\n",
       "      <td>[YouTube]</td>\n",
       "      <td>[YouTube watch history]</td>\n",
       "      <td>NA</td>\n",
       "      <td>NA</td>\n",
       "      <td>5</td>\n",
       "      <td>Tuesday</td>\n",
       "      <td>2023-06-13</td>\n",
       "    </tr>\n",
       "  </tbody>\n",
       "</table>\n",
       "<p>27023 rows × 12 columns</p>\n",
       "</div>"
      ],
      "text/plain": [
       "        header                                              title  \\\n",
       "101    YouTube                             Watched 为什么猪场里一定不能养猫呢？   \n",
       "102    YouTube                Watched 普京回击中国威胁论：拿中国来吓唬我的人，自己被吓坏了。   \n",
       "103    YouTube                              Watched 成年人的崩溃往往只在一瞬间   \n",
       "105    YouTube  Watched POWER OF A PREY TO PROTECT ITS SELF FR...   \n",
       "106    YouTube                              Watched 下暴雪时高铁是怎样运行的？   \n",
       "...        ...                                                ...   \n",
       "32994  YouTube       Watched Uncle Roger羅傑叔叔本人來啦！｜mrnigelng官方中文頻道   \n",
       "32995  YouTube  Watched 【Uncle Roger】專業歌手Joji和Rich Brian挑戰做泡麵，...   \n",
       "32997  YouTube                            Watched 為什麼你不需要蘋果M2 Max   \n",
       "32998  YouTube  Watched 英文弱底托福備考必看|多益300➡️五戰托福87➡️錄取美國top10名校西...   \n",
       "32999  YouTube  Watched DATA ANALYST PORTFOLIO | 10 PROJECT IDEAS   \n",
       "\n",
       "                                          titleUrl  \\\n",
       "101    https://www.youtube.com/watch?v=crxP2epmEPo   \n",
       "102    https://www.youtube.com/watch?v=aJJVGSBlY0I   \n",
       "103    https://www.youtube.com/watch?v=X-wdFK8N41g   \n",
       "105    https://www.youtube.com/watch?v=W5u99192qIA   \n",
       "106    https://www.youtube.com/watch?v=-ZIXUW9CerY   \n",
       "...                                            ...   \n",
       "32994  https://www.youtube.com/watch?v=Kx90uOg_QXM   \n",
       "32995  https://www.youtube.com/watch?v=EuffmcKzi0I   \n",
       "32997  https://www.youtube.com/watch?v=GoDzWt6ESh8   \n",
       "32998  https://www.youtube.com/watch?v=L22WnGtDXII   \n",
       "32999  https://www.youtube.com/watch?v=wObV_hwu2QM   \n",
       "\n",
       "                                               subtitles  \\\n",
       "101    [{'name': '笑笑科普', 'url': 'https://www.youtube....   \n",
       "102    [{'name': 'fearless4L9', 'url': 'https://www.y...   \n",
       "103    [{'name': '文化红人馆', 'url': 'https://www.youtube...   \n",
       "105    [{'name': 'karan@ YT', 'url': 'https://www.you...   \n",
       "106    [{'name': '笑笑科普', 'url': 'https://www.youtube....   \n",
       "...                                                  ...   \n",
       "32994  [{'name': 'mrnigelng 官方中文頻道', 'url': 'https://...   \n",
       "32995  [{'name': 'mrnigelng 官方中文頻道', 'url': 'https://...   \n",
       "32997  [{'name': 'HackBear 泰瑞', 'url': 'https://www.y...   \n",
       "32998  [{'name': 'Olivia Hsü', 'url': 'https://www.yo...   \n",
       "32999  [{'name': 'Data With Mo', 'url': 'https://www....   \n",
       "\n",
       "                                  time   products         activityControls  \\\n",
       "101   2021-12-14 23:30:36.287000+00:00  [YouTube]  [YouTube watch history]   \n",
       "102   2021-12-14 23:30:59.543000+00:00  [YouTube]  [YouTube watch history]   \n",
       "103   2021-12-14 23:31:15.680000+00:00  [YouTube]  [YouTube watch history]   \n",
       "105   2021-12-14 23:31:31.566000+00:00  [YouTube]  [YouTube watch history]   \n",
       "106   2021-12-14 23:31:45.222000+00:00  [YouTube]  [YouTube watch history]   \n",
       "...                                ...        ...                      ...   \n",
       "32994 2023-06-13 04:52:18.569000+00:00  [YouTube]  [YouTube watch history]   \n",
       "32995 2023-06-13 04:52:50.100000+00:00  [YouTube]  [YouTube watch history]   \n",
       "32997 2023-06-13 04:56:05.134000+00:00  [YouTube]  [YouTube watch history]   \n",
       "32998 2023-06-13 05:02:37.431000+00:00  [YouTube]  [YouTube watch history]   \n",
       "32999 2023-06-13 05:08:50.583000+00:00  [YouTube]  [YouTube watch history]   \n",
       "\n",
       "      details description  hour day_of_week        date  \n",
       "101        NA          NA    23     Tuesday  2021-12-14  \n",
       "102        NA          NA    23     Tuesday  2021-12-14  \n",
       "103        NA          NA    23     Tuesday  2021-12-14  \n",
       "105        NA          NA    23     Tuesday  2021-12-14  \n",
       "106        NA          NA    23     Tuesday  2021-12-14  \n",
       "...       ...         ...   ...         ...         ...  \n",
       "32994      NA          NA     4     Tuesday  2023-06-13  \n",
       "32995      NA          NA     4     Tuesday  2023-06-13  \n",
       "32997      NA          NA     4     Tuesday  2023-06-13  \n",
       "32998      NA          NA     5     Tuesday  2023-06-13  \n",
       "32999      NA          NA     5     Tuesday  2023-06-13  \n",
       "\n",
       "[27023 rows x 12 columns]"
      ]
     },
     "execution_count": 65,
     "metadata": {},
     "output_type": "execute_result"
    }
   ],
   "source": [
    "watch_df\n"
   ]
  },
  {
   "cell_type": "code",
   "execution_count": 66,
   "metadata": {},
   "outputs": [
    {
     "name": "stdout",
     "output_type": "stream",
     "text": [
      "ICC Worship Leaders    115\n",
      "Lionfield               88\n",
      "KWOOWK                  80\n",
      "chefkoudy               79\n",
      "KingChris               74\n",
      "InterestingDaily        71\n",
      "ARGEN                   70\n",
      "Max the Meat Guy        70\n",
      "Noel Deyzel             69\n",
      "masteroogwgay           68\n",
      "Name: channel, dtype: int64\n"
     ]
    },
    {
     "name": "stderr",
     "output_type": "stream",
     "text": [
      "/var/folders/82/rx54lvmd1hz_l7fcq3sc7vdc0000gn/T/ipykernel_31033/2785674629.py:2: SettingWithCopyWarning: \n",
      "A value is trying to be set on a copy of a slice from a DataFrame.\n",
      "Try using .loc[row_indexer,col_indexer] = value instead\n",
      "\n",
      "See the caveats in the documentation: https://pandas.pydata.org/pandas-docs/stable/user_guide/indexing.html#returning-a-view-versus-a-copy\n",
      "  watch_df['channel'] = watch_df['subtitles'].apply(lambda x: x[0]['name'] if x else None)\n"
     ]
    }
   ],
   "source": [
    "# We'll extract this from the first (and only) dictionary in the 'subtitles' list, if it exists.\n",
    "watch_df['channel'] = watch_df['subtitles'].apply(lambda x: x[0]['name'] if x else None)\n",
    "\n",
    "# Now, we can get the most common channels by counting the values in the 'channel' column.\n",
    "most_common_channels = watch_df['channel'].value_counts()\n",
    "\n",
    "# Print the top 10 most common channels\n",
    "print(most_common_channels.head(10))"
   ]
  },
  {
   "cell_type": "code",
   "execution_count": 70,
   "metadata": {},
   "outputs": [
    {
     "name": "stdout",
     "output_type": "stream",
     "text": [
      "<class 'pandas.core.frame.DataFrame'>\n",
      "Int64Index: 11621 entries, 0 to 11622\n",
      "Data columns (total 11 columns):\n",
      " #   Column            Non-Null Count  Dtype              \n",
      "---  ------            --------------  -----              \n",
      " 0   header            11621 non-null  object             \n",
      " 1   title             11621 non-null  object             \n",
      " 2   titleUrl          11621 non-null  object             \n",
      " 3   time              11621 non-null  datetime64[ns, UTC]\n",
      " 4   products          11621 non-null  object             \n",
      " 5   activityControls  11621 non-null  object             \n",
      " 6   description       11621 non-null  object             \n",
      " 7   details           11621 non-null  object             \n",
      " 8   subtitles         11621 non-null  object             \n",
      " 9   next_watch        11621 non-null  object             \n",
      " 10  search_term       11621 non-null  object             \n",
      "dtypes: datetime64[ns, UTC](1), object(10)\n",
      "memory usage: 1.1+ MB\n",
      "None\n"
     ]
    }
   ],
   "source": [
    "# Create a new 'search_term' column in the DataFrame that contains the search terms.\n",
    "search_df['search_term'] = search_df['title'].str.replace('Searched for ', '', regex=True)\n",
    "\n",
    "# Check the first few rows of the DataFrame to make sure the search terms were extracted correctly.\n",
    "print(search_df.info())\n"
   ]
  },
  {
   "cell_type": "code",
   "execution_count": 71,
   "metadata": {},
   "outputs": [
    {
     "name": "stdout",
     "output_type": "stream",
     "text": [
      "naruto theme                                                                                56\n",
      "mongol                                                                                      50\n",
      "Watched Ka'Chava - The World's Healthiest All-In-One Meal Shake.                            49\n",
      "Watched Ka'Chava - The World's Healthiest Superfood Breakfast In Seconds                    44\n",
      "gladiator beginning scene                                                                   41\n",
      "Watched Getting Started in Therapy with BetterHelp                                          37\n",
      "guitar                                                                                      37\n",
      "Watched Michael, Data Analytics Certificate Graduate — Google Career Certificates (:15s)    35\n",
      "for honor trailer                                                                           34\n",
      "Watched Find your path                                                                      30\n",
      "Name: search_term, dtype: int64\n"
     ]
    }
   ],
   "source": [
    "# Count the occurrence of each unique value in the 'search_term' column and display the top 10.\n",
    "print(search_df['search_term'].value_counts().head(10))\n"
   ]
  },
  {
   "cell_type": "code",
   "execution_count": 72,
   "metadata": {},
   "outputs": [
    {
     "name": "stdout",
     "output_type": "stream",
     "text": [
      "The proportion of searches that lead to a watch is 0.3160657430513725\n"
     ]
    }
   ],
   "source": [
    "# Sort both dataframes by time\n",
    "search_df = search_df.sort_values('time')\n",
    "watch_df = watch_df.sort_values('time')\n",
    "\n",
    "# Initialize a counter for searches that lead to a watch\n",
    "search_leads_to_watch = 0\n",
    "\n",
    "# Loop through the search dataframe\n",
    "for i in range(len(search_df)-1):\n",
    "    # Check if the next event is a watch event\n",
    "    if search_df.iloc[i+1]['header'] == 'YouTube' and 'Watched' in search_df.iloc[i+1]['title']:\n",
    "        # If it is, increment the counter\n",
    "        search_leads_to_watch += 1\n",
    "\n",
    "# Calculate the proportion of searches that lead to a watch\n",
    "proportion = search_leads_to_watch / len(search_df)\n",
    "\n",
    "print(f'The proportion of searches that lead to a watch is {proportion}')\n"
   ]
  },
  {
   "cell_type": "code",
   "execution_count": null,
   "metadata": {},
   "outputs": [],
   "source": []
  }
 ],
 "metadata": {
  "kernelspec": {
   "display_name": "base",
   "language": "python",
   "name": "python3"
  },
  "language_info": {
   "codemirror_mode": {
    "name": "ipython",
    "version": 3
   },
   "file_extension": ".py",
   "mimetype": "text/x-python",
   "name": "python",
   "nbconvert_exporter": "python",
   "pygments_lexer": "ipython3",
   "version": "3.10.9"
  },
  "orig_nbformat": 4
 },
 "nbformat": 4,
 "nbformat_minor": 2
}
