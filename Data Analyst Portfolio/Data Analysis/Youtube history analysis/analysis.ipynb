{
 "cells": [
  {
   "attachments": {},
   "cell_type": "markdown",
   "metadata": {},
   "source": [
    "# Analysis of YouTube Watch & Search History\n",
    "\n",
    "The internet has changed the way we consume media, and platforms like YouTube have emerged as significant sources of information and entertainment. As a frequent user of YouTube, I've often wondered about my viewing habits. What patterns might emerge from a careful examination of the videos I watch, the channels I frequent, and the times I choose to engage with this platform?\n",
    "\n",
    "<br> To answer these questions, I have collected my YouTube watch history and search history in JSON formats, providing a rich dataset that includes information such as video titles, viewing times, and associated channels. This dataset provides a unique opportunity to dive deep into my personal YouTube use and uncover any interesting trends or patterns.\n",
    "\n",
    "## Dataset Overview\n",
    "\n",
    "1. **YouTube Watch History('watch-history.json')**: This dataset contains my personal YouTube watch history. The data is stored in JSON format with the following attributes:\n",
    "    * **'header'**: This field indicates the platform, which in this case is always \"YouTube\".\n",
    "\n",
    "    * **'title'**: This field contains the action and the title of the video watched. The action is always \"Watched\" followed by the video title.\n",
    "    \n",
    "    * **'titleUrl'**: This field contains the URL of the watched video.\n",
    "    * **'subtitles'**: This field includes the channel name and the URL of the channel.\n",
    "    * **'time'**: This field records the timestamp of the watch action in the format \"YYYY-MM-DDTHH:MM:SS.SSSZ\".\n",
    "    * **'products'**: This field indicates the platform's product used, which in this case is always \"YouTube\".\n",
    "    * **'activityControls'**: This field indicates the type of activity, which in this case is always \"YouTube watch history\".\n",
    "2. **YouTube Search History ('search-history.json')**: This dataset contains my personal YouTube search history. The data is stored in JSON format with the following attributes:\n",
    "    * **'header'**: Similar to the watch history, this field indicates the platform, which is always \"YouTube\".\n",
    "\n",
    "    * **'title'**: This field contains the action and the search term used. The action is always \"Searched for\" followed by the search term.\n",
    "    \n",
    "    * **'titleUrl'**: This field contains the URL of the search results.\n",
    "    * **'time'**: This field records the timestamp of the search action in the format \"YYYY-MM-DDTHH:MM:SS.SSSZ\".\n",
    "    * **'products'**: This field indicates the platform's product used, which in this case is always \"YouTube\".\n",
    "    * **'activityControls'**: This field indicates the type of activity, which in this case is always \"YouTube search history\".\n",
    "\n",
    "<br> The goal of this project is to analyze these datasets to uncover insights and patterns about my YouTube viewing and searching habits. I'll be investigating aspects such as the distribution of watch times, the most commonly watched channels, the most commonly used search terms, and how these aspects might have changed over time.\n",
    "\n",
    "## Project Goals\n",
    "In this project, I will leverage Python and SQL, along with various libraries like pandas for data manipulation, NLTK for natural language processing, and matplotlib for visualization, to explore my YouTube watch history. The steps I plan to follow are:\n",
    "\n",
    "<br> 1. **Understanding the data**: I'll start by examining the structure of the JSON file and identifying the range of dates covered in the watch history.\n",
    "\n",
    "<br> 2. **Data Cleaning**: I will transform the JSON data into a pandas DataFrame for easier analysis, handle any missing or inconsistent fields, and convert data types where necessary.\n",
    "\n",
    "<br> 3. **Exploratory Data Analysis (EDA)**: Here, I'll look at the distribution of my watch times, how my YouTube usage has evolved over time, and identify the channels and video categories I watch the most.\n",
    "\n",
    "<br> 4. **Natural Language Processing (NLP) with NLTK**: I'll use NLP techniques to identify common words in video titles, classify titles into different topics, and analyze the sentiment of the video titles.\n",
    "\n",
    "<br> 5. **Further Analysis**: I'll look for trends or patterns in the types of videos I watch, explore correlations between video lengths and my watch times, and even attempt to predict future watching habits based on my historical data.\n",
    "\n",
    "<br> 6. **Data Visualization**: Finally, I'll create various visualizations to better understand my data and share my findings.\n",
    "\n",
    "Through this project, I hope to gain insights into my personal YouTube usage and demonstrate how data science techniques can be applied to analyze and understand digital media consumption. Let's dive in!\n",
    "\n",
    "\n",
    "\n"
   ]
  },
  {
   "attachments": {},
   "cell_type": "markdown",
   "metadata": {},
   "source": [
    "## Import Libraries"
   ]
  },
  {
   "cell_type": "code",
   "execution_count": 1,
   "metadata": {},
   "outputs": [],
   "source": [
    "import sqlite3\n",
    "import pandas as pd\n",
    "import json\n"
   ]
  },
  {
   "attachments": {},
   "cell_type": "markdown",
   "metadata": {},
   "source": [
    "## Load the Data"
   ]
  },
  {
   "cell_type": "code",
   "execution_count": 2,
   "metadata": {},
   "outputs": [],
   "source": [
    "# Load the watch history JSON file\n",
    "with open('watch-history.json') as f:\n",
    "    watch_data = json.load(f)\n",
    "\n",
    "# Convert the watch data to a pandas DataFrame\n",
    "watch_df = pd.json_normalize(watch_data)\n",
    "\n",
    "# Load the search history JSON file\n",
    "with open('search-history.json') as f:\n",
    "    search_data = json.load(f)\n",
    "\n",
    "# Convert the search data to a pandas DataFrame\n",
    "search_df = pd.json_normalize(search_data)\n"
   ]
  },
  {
   "cell_type": "code",
   "execution_count": 4,
   "metadata": {},
   "outputs": [
    {
     "name": "stdout",
     "output_type": "stream",
     "text": [
      "<class 'pandas.core.frame.DataFrame'>\n",
      "RangeIndex: 33000 entries, 0 to 32999\n",
      "Data columns (total 9 columns):\n",
      " #   Column            Non-Null Count  Dtype \n",
      "---  ------            --------------  ----- \n",
      " 0   header            33000 non-null  object\n",
      " 1   title             33000 non-null  object\n",
      " 2   titleUrl          32704 non-null  object\n",
      " 3   subtitles         27046 non-null  object\n",
      " 4   time              33000 non-null  object\n",
      " 5   products          33000 non-null  object\n",
      " 6   activityControls  33000 non-null  object\n",
      " 7   details           3586 non-null   object\n",
      " 8   description       3481 non-null   object\n",
      "dtypes: object(9)\n",
      "memory usage: 2.3+ MB\n"
     ]
    }
   ],
   "source": [
    "watch_df.info()"
   ]
  },
  {
   "cell_type": "code",
   "execution_count": 5,
   "metadata": {},
   "outputs": [
    {
     "name": "stdout",
     "output_type": "stream",
     "text": [
      "<class 'pandas.core.frame.DataFrame'>\n",
      "RangeIndex: 11623 entries, 0 to 11622\n",
      "Data columns (total 9 columns):\n",
      " #   Column            Non-Null Count  Dtype \n",
      "---  ------            --------------  ----- \n",
      " 0   header            11623 non-null  object\n",
      " 1   title             11623 non-null  object\n",
      " 2   titleUrl          11621 non-null  object\n",
      " 3   time              11623 non-null  object\n",
      " 4   products          11623 non-null  object\n",
      " 5   activityControls  11623 non-null  object\n",
      " 6   description       3673 non-null   object\n",
      " 7   details           3767 non-null   object\n",
      " 8   subtitles         2 non-null      object\n",
      "dtypes: object(9)\n",
      "memory usage: 817.4+ KB\n"
     ]
    }
   ],
   "source": [
    "search_df.info()"
   ]
  },
  {
   "cell_type": "code",
   "execution_count": null,
   "metadata": {},
   "outputs": [],
   "source": []
  }
 ],
 "metadata": {
  "kernelspec": {
   "display_name": "base",
   "language": "python",
   "name": "python3"
  },
  "language_info": {
   "codemirror_mode": {
    "name": "ipython",
    "version": 3
   },
   "file_extension": ".py",
   "mimetype": "text/x-python",
   "name": "python",
   "nbconvert_exporter": "python",
   "pygments_lexer": "ipython3",
   "version": "3.10.9"
  },
  "orig_nbformat": 4
 },
 "nbformat": 4,
 "nbformat_minor": 2
}
