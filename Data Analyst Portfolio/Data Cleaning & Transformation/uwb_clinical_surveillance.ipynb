{
 "cells": [
  {
   "attachments": {},
   "cell_type": "markdown",
   "metadata": {},
   "source": [
    "# Data Cleaning and Transformation Project: UWB Clinical Surveillance Dataset"
   ]
  },
  {
   "attachments": {},
   "cell_type": "markdown",
   "metadata": {},
   "source": [
    "In this project, I am working with a dataset acquired from an intelligent surveillance system based on Ultra-Wideband (UWB) technology implemented in a hospital setting. This surveillance system is designed to track the movement of patients within the hospital premises, with the aim of improving patient management and optimizing hospital operations.\n",
    "\n",
    "The dataset includes information collected from UWB tags affixed to patients, including various numerical and categorical attributes related to the timing pulses sent from these tags. This information can be used to determine the patients' locations within the hospital at different points in time."
   ]
  },
  {
   "attachments": {},
   "cell_type": "markdown",
   "metadata": {},
   "source": [
    "## Dataset Overview"
   ]
  },
  {
   "attachments": {},
   "cell_type": "markdown",
   "metadata": {},
   "source": [
    "The dataset consists of 610 rows and 8 columns, representing individual timing pulses sent from an embeded wearable. The attributes in the dataset include the following:\n",
    "\n",
    "1: **id**: Unique identifier for each record\n",
    "<br />2: **anchorID**: Identifier for the UWB anchor\n",
    "<br />3: **tagID**: Identifier for the UWB tag (weareable) affixed to patients\n",
    "<br />4: **sequenceID**: Sequence number representing the order of the timing pulses\n",
    "<br />5: **pan**: An attribute whose role and significance will be explored further\n",
    "<br />6: **processed_flag**: Flag indicating whether the data record has been processed\n",
    "<br />7: **timestampToA**: Timestamp of the timing pulse\n",
    "<br />8: **Timestamp ToA**: Another version of the timestamp of the timing pulse\n",
    "\n",
    "The dataset is expected to be free of missing values, but I will perform a thorough data cleaning and validation process to confirm this and handle any inconsistencies or errors that might be present.\n",
    "\n",
    "data source: https://archive.ics.uci.edu/dataset/754/dataset+based+on+uwb+for+clinical+establishments"
   ]
  },
  {
   "attachments": {},
   "cell_type": "markdown",
   "metadata": {},
   "source": [
    "## Project Goals"
   ]
  },
  {
   "attachments": {},
   "cell_type": "markdown",
   "metadata": {},
   "source": [
    "Our goal in this project is to clean and transform the data so that it can be used for further analysis and modeling. Specifically, I aim to address the following questions and tasks:\n",
    "\n",
    "<br />1. **Data Integrity and Completeness**: Verify whether there are indeed no missing values in the dataset, and handle any inconsistencies or errors that might be present.\n",
    "\n",
    "<br />2. **Data Consistency**: Check whether the data types are consistent across the dataset and identify any discrepancies or anomalies in the data.\n",
    "\n",
    "<br />3. **Data Normalization**: Consider whether it would be beneficial to normalize or standardize the numerical data to prepare the dataset for machine learning algorithms.\n",
    "\n",
    "<br />4. **Feature Engineering**: Explore the possibility of creating additional features from the existing data, such as the time spent by patients in certain areas of the hospital or the frequency of their movements.\n",
    "\n",
    "<br />5. **Data Privacy**: Ensure that the dataset does not contain any sensitive information that could compromise patient privacy.\n",
    "\n",
    "<br />6. **Outlier Detection**: Identify any outliers in the numerical data that should be addressed.\n",
    "\n",
    "<br />7. **Data Use**: Consider how the cleaned and transformed data might be used in future analyses or models, and ensure that the data is appropriately prepared for these uses.\n",
    "\n",
    "In the following sections, I will walk through each of these steps in detail, demonstrating the process of cleaning and transforming this unique dataset. I hope that this project will not only serve as a useful example of data cleaning and transformation, but will also contribute to the broader effort to leverage data and technology to improve healthcare outcomes."
   ]
  },
  {
   "attachments": {},
   "cell_type": "markdown",
   "metadata": {},
   "source": []
  },
  {
   "attachments": {},
   "cell_type": "markdown",
   "metadata": {},
   "source": [
    "### Import libraries"
   ]
  },
  {
   "cell_type": "code",
   "execution_count": 1,
   "metadata": {},
   "outputs": [],
   "source": [
    "# Import necessary libraries\n",
    "import pandas as pd\n",
    "from sklearn.preprocessing import StandardScaler, MinMaxScaler\n",
    "import matplotlib.pyplot as plt\n",
    "import seaborn as sns"
   ]
  },
  {
   "attachments": {},
   "cell_type": "markdown",
   "metadata": {},
   "source": [
    "### Load Datasets"
   ]
  },
  {
   "cell_type": "code",
   "execution_count": 2,
   "metadata": {},
   "outputs": [],
   "source": [
    "# load the datasets\n",
    "df = pd.read_csv('blink.csv', skiprows=2)\n"
   ]
  },
  {
   "cell_type": "code",
   "execution_count": 3,
   "metadata": {},
   "outputs": [
    {
     "name": "stdout",
     "output_type": "stream",
     "text": [
      "   id  anchorID     tagID  sequenceID  pan  processed_flag  timestampToA  \\\n",
      "0   2  ANCH0004  TAG00001           0    0               1  7.284800e+11   \n",
      "1   3  ANCH0002  TAG00001           0    0               1  7.284800e+11   \n",
      "2   4  ANCH0003  TAG00001           0    0               1  7.284800e+11   \n",
      "3   5  ANCH0001  TAG00001           1    0               1  7.590540e+11   \n",
      "4   6  ANCH0004  TAG00001           1    0               1  7.590540e+11   \n",
      "\n",
      "   Timestamp ToA  \n",
      "0   728480463235  \n",
      "1   728480462804  \n",
      "2   728480463013  \n",
      "3   759053775951  \n",
      "4   759053775656  \n"
     ]
    }
   ],
   "source": [
    "df.columns = ['id', 'anchorID', 'tagID', 'sequenceID', 'pan', 'processed_flag', 'timestampToA', 'Timestamp ToA']\n",
    "print(df.head())"
   ]
  },
  {
   "attachments": {},
   "cell_type": "markdown",
   "metadata": {},
   "source": [
    "### 1. Checking Data Integrity and Completeness"
   ]
  },
  {
   "cell_type": "code",
   "execution_count": 4,
   "metadata": {},
   "outputs": [
    {
     "name": "stdout",
     "output_type": "stream",
     "text": [
      "id                0\n",
      "anchorID          0\n",
      "tagID             0\n",
      "sequenceID        0\n",
      "pan               0\n",
      "processed_flag    0\n",
      "timestampToA      0\n",
      "Timestamp ToA     0\n",
      "dtype: int64\n"
     ]
    }
   ],
   "source": [
    "# check for missing values\n",
    "missing_values = df.isnull().sum()\n",
    "\n",
    "#print the count of missing values for each column\n",
    "print(missing_values)"
   ]
  },
  {
   "attachments": {},
   "cell_type": "markdown",
   "metadata": {},
   "source": [
    "### 2. Checking Data Consistency"
   ]
  },
  {
   "cell_type": "code",
   "execution_count": 5,
   "metadata": {},
   "outputs": [
    {
     "name": "stdout",
     "output_type": "stream",
     "text": [
      "id                  int64\n",
      "anchorID           object\n",
      "tagID              object\n",
      "sequenceID          int64\n",
      "pan                 int64\n",
      "processed_flag      int64\n",
      "timestampToA      float64\n",
      "Timestamp ToA       int64\n",
      "dtype: object\n",
      "id can be converted to numeric\n",
      "anchorID cannot be converted to numeric\n",
      "tagID cannot be converted to numeric\n",
      "sequenceID can be converted to numeric\n",
      "pan can be converted to numeric\n",
      "processed_flag can be converted to numeric\n",
      "timestampToA can be converted to numeric\n",
      "Timestamp ToA can be converted to numeric\n",
      "\n",
      "Column Name: id\n",
      "2      1\n",
      "401    1\n",
      "403    1\n",
      "404    1\n",
      "405    1\n",
      "      ..\n",
      "205    1\n",
      "206    1\n",
      "207    1\n",
      "208    1\n",
      "608    1\n",
      "Name: id, Length: 607, dtype: int64\n",
      "\n",
      "Column Name: anchorID\n",
      "ANCH0004    164\n",
      "ANCH0002    164\n",
      "ANCH0003    147\n",
      "ANCH0001    132\n",
      "Name: anchorID, dtype: int64\n",
      "\n",
      "Column Name: tagID\n",
      "TAG00001    607\n",
      "Name: tagID, dtype: int64\n",
      "\n",
      "Column Name: sequenceID\n",
      "82     4\n",
      "139    4\n",
      "135    4\n",
      "90     4\n",
      "136    4\n",
      "      ..\n",
      "77     3\n",
      "74     3\n",
      "72     3\n",
      "163    3\n",
      "11     2\n",
      "Name: sequenceID, Length: 164, dtype: int64\n",
      "\n",
      "Column Name: pan\n",
      "0    607\n",
      "Name: pan, dtype: int64\n",
      "\n",
      "Column Name: processed_flag\n",
      "1    566\n",
      "0     41\n",
      "Name: processed_flag, dtype: int64\n",
      "\n",
      "Column Name: timestampToA\n",
      "9.223370e+18    5\n",
      "1.041770e+12    4\n",
      "5.235350e+11    4\n",
      "7.068970e+11    4\n",
      "8.337310e+11    4\n",
      "               ..\n",
      "2.502502e+10    1\n",
      "5.290611e+10    1\n",
      "6.627111e+10    1\n",
      "5.290611e+10    1\n",
      "4.420133e+10    1\n",
      "Name: timestampToA, Length: 189, dtype: int64\n",
      "\n",
      "Column Name: Timestamp ToA\n",
      "9223372036854770000    5\n",
      "771903161197           2\n",
      "615175606218           2\n",
      "728480463235           1\n",
      "413949792681           1\n",
      "                      ..\n",
      "75070652154            1\n",
      "75070652075            1\n",
      "136468880714           1\n",
      "136468880295           1\n",
      "535464226896           1\n",
      "Name: Timestamp ToA, Length: 601, dtype: int64\n"
     ]
    }
   ],
   "source": [
    "# Print the data types of each column\n",
    "print(df.dtypes)\n",
    "\n",
    "# Check each column\n",
    "for col in df.columns:\n",
    "    try:\n",
    "        pd.to_numeric(df[col])\n",
    "        print(f'{col} can be converted to numeric')\n",
    "    except ValueError:\n",
    "        print(f'{col} cannot be converted to numeric')\n",
    "\n",
    "\n",
    "# For each column, print the count of unique values\n",
    "for col in df.columns:\n",
    "    print(f\"\\nColumn Name: {col}\")\n",
    "    print(df[col].value_counts())\n"
   ]
  },
  {
   "attachments": {},
   "cell_type": "markdown",
   "metadata": {},
   "source": [
    "### 3. Data Normalization"
   ]
  },
  {
   "cell_type": "code",
   "execution_count": 6,
   "metadata": {},
   "outputs": [
    {
     "name": "stdout",
     "output_type": "stream",
     "text": [
      "   id  anchorID     tagID  sequenceID  pan  processed_flag  timestampToA  \\\n",
      "0   2  ANCH0004  TAG00001           0    0               1  7.284800e+11   \n",
      "1   3  ANCH0002  TAG00001           0    0               1  7.284800e+11   \n",
      "2   4  ANCH0003  TAG00001           0    0               1  7.284800e+11   \n",
      "3   5  ANCH0001  TAG00001           1    0               1  7.590540e+11   \n",
      "4   6  ANCH0004  TAG00001           1    0               1  7.590540e+11   \n",
      "\n",
      "   Timestamp ToA  timestampToA_norm  timestampToA_stand  \n",
      "0   728480463235       7.788921e-08           -0.091135  \n",
      "1   728480462804       7.788921e-08           -0.091135  \n",
      "2   728480463013       7.788921e-08           -0.091135  \n",
      "3   759053775951       8.120406e-08           -0.091135  \n",
      "4   759053775656       8.120406e-08           -0.091135  \n"
     ]
    }
   ],
   "source": [
    "# initialize the scalers\n",
    "scaler_norm = MinMaxScaler()\n",
    "scaler_stand = StandardScaler()\n",
    "\n",
    "# Let's say we want to normalize/standardize the 'timestampToA' column\n",
    "df['timestampToA_norm'] = scaler_norm.fit_transform(df[['timestampToA']])\n",
    "df['timestampToA_stand'] = scaler_stand.fit_transform(df[['timestampToA']])\n",
    "\n",
    "# print the first few rows to see the changes\n",
    "print(df.head())"
   ]
  },
  {
   "attachments": {},
   "cell_type": "markdown",
   "metadata": {},
   "source": [
    "#### Data Visulalize the timestampToA_norm and timestampA_stand"
   ]
  },
  {
   "cell_type": "code",
   "execution_count": 7,
   "metadata": {},
   "outputs": [
    {
     "data": {
      "image/png": "[encoded data removed]",
      "text/plain": [
       "<Figure size 1200x800 with 3 Axes>"
      ]
     },
     "metadata": {},
     "output_type": "display_data"
    }
   ],
   "source": [
    "fig, (ax1, ax2, ax3) = plt.subplots(3, 1, figsize=(12,8))\n",
    "\n",
    "ax1.hist(df['timestampToA'], bins=50, color='blue', alpha=0.7)\n",
    "ax1.set_title('Original \"timestampToA\"')\n",
    "\n",
    "ax2.hist(df['timestampToA_norm'], bins=50, color='blue', alpha=0.7)\n",
    "ax2.set_title('Normalized \"timestampToA\"')\n",
    "\n",
    "ax3.hist(df['timestampToA_stand'], bins=50, color='blue', alpha=0.7)\n",
    "ax3.set_title('standardized \"timestampToA\"')\n",
    "\n",
    "plt.tight_layout()\n",
    "plt.show()"
   ]
  },
  {
   "attachments": {},
   "cell_type": "markdown",
   "metadata": {},
   "source": [
    "### 4.Featuring Engineering"
   ]
  },
  {
   "attachments": {},
   "cell_type": "markdown",
   "metadata": {},
   "source": [
    "#### Time Spent by Patients in Certain Areas of the Hospital"
   ]
  },
  {
   "attachments": {},
   "cell_type": "markdown",
   "metadata": {},
   "source": [
    "The 'anchorID' column represents the location where the signal was captured. The 'timestampToA' column represents the timestamp of arrival. In order to calculate the time spent by each patient('tagID') in each area, I calculate the difference between the minimum and maximum timestamps for each patient in each area"
   ]
  },
  {
   "cell_type": "code",
   "execution_count": 8,
   "metadata": {},
   "outputs": [],
   "source": [
    "# Group by 'tagID' and 'anchorID', and calculate the minimum and maximum timestamps\n",
    "df_time = df.groupby(['tagID', 'anchorID'])['timestampToA'].agg(['min', 'max']).reset_index()\n",
    "\n",
    "# Calculate the time spent in each area by subtracting the minimum timestamp from the maximum\n",
    "df_time['time_spent'] = df_time['max'] - df_time['min']\n",
    "\n",
    "# Merge this back to the original dataframe\n",
    "df = pd.merge(df, df_time, on=['tagID', 'anchorID'])"
   ]
  },
  {
   "cell_type": "code",
   "execution_count": 9,
   "metadata": {},
   "outputs": [
    {
     "data": {
      "text/html": [
       "<div>\n",
       "<style scoped>\n",
       "    .dataframe tbody tr th:only-of-type {\n",
       "        vertical-align: middle;\n",
       "    }\n",
       "\n",
       "    .dataframe tbody tr th {\n",
       "        vertical-align: top;\n",
       "    }\n",
       "\n",
       "    .dataframe thead th {\n",
       "        text-align: right;\n",
       "    }\n",
       "</style>\n",
       "<table border=\"1\" class=\"dataframe\">\n",
       "  <thead>\n",
       "    <tr style=\"text-align: right;\">\n",
       "      <th></th>\n",
       "      <th>id</th>\n",
       "      <th>anchorID</th>\n",
       "      <th>tagID</th>\n",
       "      <th>sequenceID</th>\n",
       "      <th>pan</th>\n",
       "      <th>processed_flag</th>\n",
       "      <th>timestampToA</th>\n",
       "      <th>Timestamp ToA</th>\n",
       "      <th>timestampToA_norm</th>\n",
       "      <th>timestampToA_stand</th>\n",
       "      <th>min</th>\n",
       "      <th>max</th>\n",
       "      <th>time_spent</th>\n",
       "    </tr>\n",
       "  </thead>\n",
       "  <tbody>\n",
       "    <tr>\n",
       "      <th>0</th>\n",
       "      <td>2</td>\n",
       "      <td>ANCH0004</td>\n",
       "      <td>TAG00001</td>\n",
       "      <td>0</td>\n",
       "      <td>0</td>\n",
       "      <td>1</td>\n",
       "      <td>7.284800e+11</td>\n",
       "      <td>728480463235</td>\n",
       "      <td>7.788921e-08</td>\n",
       "      <td>-0.091135</td>\n",
       "      <td>1.007897e+10</td>\n",
       "      <td>9.223370e+18</td>\n",
       "      <td>9.223370e+18</td>\n",
       "    </tr>\n",
       "    <tr>\n",
       "      <th>1</th>\n",
       "      <td>6</td>\n",
       "      <td>ANCH0004</td>\n",
       "      <td>TAG00001</td>\n",
       "      <td>1</td>\n",
       "      <td>0</td>\n",
       "      <td>1</td>\n",
       "      <td>7.590540e+11</td>\n",
       "      <td>759053775656</td>\n",
       "      <td>8.120406e-08</td>\n",
       "      <td>-0.091135</td>\n",
       "      <td>1.007897e+10</td>\n",
       "      <td>9.223370e+18</td>\n",
       "      <td>9.223370e+18</td>\n",
       "    </tr>\n",
       "    <tr>\n",
       "      <th>2</th>\n",
       "      <td>14</td>\n",
       "      <td>ANCH0004</td>\n",
       "      <td>TAG00001</td>\n",
       "      <td>2</td>\n",
       "      <td>0</td>\n",
       "      <td>1</td>\n",
       "      <td>7.735130e+11</td>\n",
       "      <td>773512892177</td>\n",
       "      <td>8.277170e-08</td>\n",
       "      <td>-0.091135</td>\n",
       "      <td>1.007897e+10</td>\n",
       "      <td>9.223370e+18</td>\n",
       "      <td>9.223370e+18</td>\n",
       "    </tr>\n",
       "    <tr>\n",
       "      <th>3</th>\n",
       "      <td>15</td>\n",
       "      <td>ANCH0004</td>\n",
       "      <td>TAG00001</td>\n",
       "      <td>3</td>\n",
       "      <td>0</td>\n",
       "      <td>1</td>\n",
       "      <td>7.941370e+11</td>\n",
       "      <td>794136558778</td>\n",
       "      <td>8.500776e-08</td>\n",
       "      <td>-0.091135</td>\n",
       "      <td>1.007897e+10</td>\n",
       "      <td>9.223370e+18</td>\n",
       "      <td>9.223370e+18</td>\n",
       "    </tr>\n",
       "    <tr>\n",
       "      <th>4</th>\n",
       "      <td>16</td>\n",
       "      <td>ANCH0004</td>\n",
       "      <td>TAG00001</td>\n",
       "      <td>4</td>\n",
       "      <td>0</td>\n",
       "      <td>1</td>\n",
       "      <td>8.096040e+11</td>\n",
       "      <td>809603984489</td>\n",
       "      <td>8.668470e-08</td>\n",
       "      <td>-0.091135</td>\n",
       "      <td>1.007897e+10</td>\n",
       "      <td>9.223370e+18</td>\n",
       "      <td>9.223370e+18</td>\n",
       "    </tr>\n",
       "  </tbody>\n",
       "</table>\n",
       "</div>"
      ],
      "text/plain": [
       "   id  anchorID     tagID  sequenceID  pan  processed_flag  timestampToA  \\\n",
       "0   2  ANCH0004  TAG00001           0    0               1  7.284800e+11   \n",
       "1   6  ANCH0004  TAG00001           1    0               1  7.590540e+11   \n",
       "2  14  ANCH0004  TAG00001           2    0               1  7.735130e+11   \n",
       "3  15  ANCH0004  TAG00001           3    0               1  7.941370e+11   \n",
       "4  16  ANCH0004  TAG00001           4    0               1  8.096040e+11   \n",
       "\n",
       "   Timestamp ToA  timestampToA_norm  timestampToA_stand           min  \\\n",
       "0   728480463235       7.788921e-08           -0.091135  1.007897e+10   \n",
       "1   759053775656       8.120406e-08           -0.091135  1.007897e+10   \n",
       "2   773512892177       8.277170e-08           -0.091135  1.007897e+10   \n",
       "3   794136558778       8.500776e-08           -0.091135  1.007897e+10   \n",
       "4   809603984489       8.668470e-08           -0.091135  1.007897e+10   \n",
       "\n",
       "            max    time_spent  \n",
       "0  9.223370e+18  9.223370e+18  \n",
       "1  9.223370e+18  9.223370e+18  \n",
       "2  9.223370e+18  9.223370e+18  \n",
       "3  9.223370e+18  9.223370e+18  \n",
       "4  9.223370e+18  9.223370e+18  "
      ]
     },
     "execution_count": 9,
     "metadata": {},
     "output_type": "execute_result"
    }
   ],
   "source": [
    "df.head()"
   ]
  },
  {
   "attachments": {},
   "cell_type": "markdown",
   "metadata": {},
   "source": [
    "#### Frequency of Movements"
   ]
  },
  {
   "attachments": {},
   "cell_type": "markdown",
   "metadata": {},
   "source": [
    "In order to calculate the frequency of movements for each patient, I count the number of unique 'sequenceID' for each 'tagID'. This assumes that each new sequenceID represents a new movement."
   ]
  },
  {
   "cell_type": "code",
   "execution_count": 10,
   "metadata": {},
   "outputs": [],
   "source": [
    "# Group by 'tagID' and count the unique 'sequenceID'\n",
    "df_movement = df.groupby('tagID')['sequenceID'].nunique().reset_index()\n",
    "\n",
    "# Rename the column to 'movement_frequency'\n",
    "df_movement.rename(columns={'sequenceID': 'movement_frequency'}, inplace=True)\n",
    "\n",
    "# Merge this back to the original dataframe\n",
    "df = pd.merge(df, df_movement, on='tagID')"
   ]
  },
  {
   "cell_type": "code",
   "execution_count": 11,
   "metadata": {},
   "outputs": [
    {
     "data": {
      "text/html": [
       "<div>\n",
       "<style scoped>\n",
       "    .dataframe tbody tr th:only-of-type {\n",
       "        vertical-align: middle;\n",
       "    }\n",
       "\n",
       "    .dataframe tbody tr th {\n",
       "        vertical-align: top;\n",
       "    }\n",
       "\n",
       "    .dataframe thead th {\n",
       "        text-align: right;\n",
       "    }\n",
       "</style>\n",
       "<table border=\"1\" class=\"dataframe\">\n",
       "  <thead>\n",
       "    <tr style=\"text-align: right;\">\n",
       "      <th></th>\n",
       "      <th>id</th>\n",
       "      <th>anchorID</th>\n",
       "      <th>tagID</th>\n",
       "      <th>sequenceID</th>\n",
       "      <th>pan</th>\n",
       "      <th>processed_flag</th>\n",
       "      <th>timestampToA</th>\n",
       "      <th>Timestamp ToA</th>\n",
       "      <th>timestampToA_norm</th>\n",
       "      <th>timestampToA_stand</th>\n",
       "      <th>min</th>\n",
       "      <th>max</th>\n",
       "      <th>time_spent</th>\n",
       "      <th>movement_frequency</th>\n",
       "    </tr>\n",
       "  </thead>\n",
       "  <tbody>\n",
       "    <tr>\n",
       "      <th>0</th>\n",
       "      <td>2</td>\n",
       "      <td>ANCH0004</td>\n",
       "      <td>TAG00001</td>\n",
       "      <td>0</td>\n",
       "      <td>0</td>\n",
       "      <td>1</td>\n",
       "      <td>7.284800e+11</td>\n",
       "      <td>728480463235</td>\n",
       "      <td>7.788921e-08</td>\n",
       "      <td>-0.091135</td>\n",
       "      <td>1.007897e+10</td>\n",
       "      <td>9.223370e+18</td>\n",
       "      <td>9.223370e+18</td>\n",
       "      <td>164</td>\n",
       "    </tr>\n",
       "    <tr>\n",
       "      <th>1</th>\n",
       "      <td>6</td>\n",
       "      <td>ANCH0004</td>\n",
       "      <td>TAG00001</td>\n",
       "      <td>1</td>\n",
       "      <td>0</td>\n",
       "      <td>1</td>\n",
       "      <td>7.590540e+11</td>\n",
       "      <td>759053775656</td>\n",
       "      <td>8.120406e-08</td>\n",
       "      <td>-0.091135</td>\n",
       "      <td>1.007897e+10</td>\n",
       "      <td>9.223370e+18</td>\n",
       "      <td>9.223370e+18</td>\n",
       "      <td>164</td>\n",
       "    </tr>\n",
       "    <tr>\n",
       "      <th>2</th>\n",
       "      <td>14</td>\n",
       "      <td>ANCH0004</td>\n",
       "      <td>TAG00001</td>\n",
       "      <td>2</td>\n",
       "      <td>0</td>\n",
       "      <td>1</td>\n",
       "      <td>7.735130e+11</td>\n",
       "      <td>773512892177</td>\n",
       "      <td>8.277170e-08</td>\n",
       "      <td>-0.091135</td>\n",
       "      <td>1.007897e+10</td>\n",
       "      <td>9.223370e+18</td>\n",
       "      <td>9.223370e+18</td>\n",
       "      <td>164</td>\n",
       "    </tr>\n",
       "    <tr>\n",
       "      <th>3</th>\n",
       "      <td>15</td>\n",
       "      <td>ANCH0004</td>\n",
       "      <td>TAG00001</td>\n",
       "      <td>3</td>\n",
       "      <td>0</td>\n",
       "      <td>1</td>\n",
       "      <td>7.941370e+11</td>\n",
       "      <td>794136558778</td>\n",
       "      <td>8.500776e-08</td>\n",
       "      <td>-0.091135</td>\n",
       "      <td>1.007897e+10</td>\n",
       "      <td>9.223370e+18</td>\n",
       "      <td>9.223370e+18</td>\n",
       "      <td>164</td>\n",
       "    </tr>\n",
       "    <tr>\n",
       "      <th>4</th>\n",
       "      <td>16</td>\n",
       "      <td>ANCH0004</td>\n",
       "      <td>TAG00001</td>\n",
       "      <td>4</td>\n",
       "      <td>0</td>\n",
       "      <td>1</td>\n",
       "      <td>8.096040e+11</td>\n",
       "      <td>809603984489</td>\n",
       "      <td>8.668470e-08</td>\n",
       "      <td>-0.091135</td>\n",
       "      <td>1.007897e+10</td>\n",
       "      <td>9.223370e+18</td>\n",
       "      <td>9.223370e+18</td>\n",
       "      <td>164</td>\n",
       "    </tr>\n",
       "  </tbody>\n",
       "</table>\n",
       "</div>"
      ],
      "text/plain": [
       "   id  anchorID     tagID  sequenceID  pan  processed_flag  timestampToA  \\\n",
       "0   2  ANCH0004  TAG00001           0    0               1  7.284800e+11   \n",
       "1   6  ANCH0004  TAG00001           1    0               1  7.590540e+11   \n",
       "2  14  ANCH0004  TAG00001           2    0               1  7.735130e+11   \n",
       "3  15  ANCH0004  TAG00001           3    0               1  7.941370e+11   \n",
       "4  16  ANCH0004  TAG00001           4    0               1  8.096040e+11   \n",
       "\n",
       "   Timestamp ToA  timestampToA_norm  timestampToA_stand           min  \\\n",
       "0   728480463235       7.788921e-08           -0.091135  1.007897e+10   \n",
       "1   759053775656       8.120406e-08           -0.091135  1.007897e+10   \n",
       "2   773512892177       8.277170e-08           -0.091135  1.007897e+10   \n",
       "3   794136558778       8.500776e-08           -0.091135  1.007897e+10   \n",
       "4   809603984489       8.668470e-08           -0.091135  1.007897e+10   \n",
       "\n",
       "            max    time_spent  movement_frequency  \n",
       "0  9.223370e+18  9.223370e+18                 164  \n",
       "1  9.223370e+18  9.223370e+18                 164  \n",
       "2  9.223370e+18  9.223370e+18                 164  \n",
       "3  9.223370e+18  9.223370e+18                 164  \n",
       "4  9.223370e+18  9.223370e+18                 164  "
      ]
     },
     "execution_count": 11,
     "metadata": {},
     "output_type": "execute_result"
    }
   ],
   "source": [
    "df.head()"
   ]
  },
  {
   "attachments": {},
   "cell_type": "markdown",
   "metadata": {},
   "source": [
    "#### Average Time Between Movements"
   ]
  },
  {
   "attachments": {},
   "cell_type": "markdown",
   "metadata": {},
   "source": [
    "This finds the average time that passes between each movement for each tagID, which is helpful for identifying how active each patient is"
   ]
  },
  {
   "cell_type": "code",
   "execution_count": 12,
   "metadata": {},
   "outputs": [],
   "source": [
    "# First, sort the dataframe by 'tagID' and 'sequenceID'\n",
    "df.sort_values(['tagID', 'sequenceID'], inplace=True)\n",
    "\n",
    "# Then, calculate the time difference between each movement for each 'tagID'\n",
    "df['time_between_movements'] = df.groupby('tagID')['timestampToA'].diff()\n",
    "\n",
    "# Finally, calculate the average time between movements for each 'tagID'\n",
    "df_avg_time = df.groupby('tagID')['time_between_movements'].mean().reset_index()\n",
    "\n",
    "# Merge this back to the original dataframe\n",
    "df = pd.merge(df, df_avg_time, on='tagID', suffixes=('', '_avg'))\n"
   ]
  },
  {
   "cell_type": "code",
   "execution_count": 13,
   "metadata": {},
   "outputs": [
    {
     "data": {
      "text/plain": [
       "<bound method DataFrame.info of       id  anchorID     tagID  sequenceID  pan  processed_flag  timestampToA  \\\n",
       "0      2  ANCH0004  TAG00001           0    0               1  7.284800e+11   \n",
       "1      3  ANCH0002  TAG00001           0    0               1  7.284800e+11   \n",
       "2      4  ANCH0003  TAG00001           0    0               1  7.284800e+11   \n",
       "3      6  ANCH0004  TAG00001           1    0               1  7.590540e+11   \n",
       "4      7  ANCH0002  TAG00001           1    0               1  7.590540e+11   \n",
       "..   ...       ...       ...         ...  ...             ...           ...   \n",
       "602  604  ANCH0003  TAG00001         162    0               0  5.167600e+11   \n",
       "603  601  ANCH0001  TAG00001         162    0               0  5.167600e+11   \n",
       "604  607  ANCH0004  TAG00001         163    0               0  5.354640e+11   \n",
       "605  606  ANCH0002  TAG00001         163    0               0  5.354640e+11   \n",
       "606  608  ANCH0003  TAG00001         163    0               0  5.354640e+11   \n",
       "\n",
       "     Timestamp ToA  timestampToA_norm  timestampToA_stand           min  \\\n",
       "0     728480463235       7.788921e-08           -0.091135  1.007897e+10   \n",
       "1     728480462804       7.788921e-08           -0.091135  1.007898e+10   \n",
       "2     728480463013       7.788921e-08           -0.091135  1.007895e+10   \n",
       "3     759053775656       8.120406e-08           -0.091135  1.007897e+10   \n",
       "4     759053775204       8.120406e-08           -0.091135  1.007898e+10   \n",
       "..             ...                ...                 ...           ...   \n",
       "602   516760178238       5.493448e-08           -0.091135  1.007895e+10   \n",
       "603   516760178551       5.493448e-08           -0.091135  1.007898e+10   \n",
       "604   535464226891       5.696237e-08           -0.091135  1.007897e+10   \n",
       "605   535464226848       5.696237e-08           -0.091135  1.007898e+10   \n",
       "606   535464226896       5.696237e-08           -0.091135  1.007895e+10   \n",
       "\n",
       "              max    time_spent  movement_frequency  time_between_movements  \\\n",
       "0    9.223370e+18  9.223370e+18                 164                     NaN   \n",
       "1    9.223370e+18  9.223370e+18                 164            0.000000e+00   \n",
       "2    9.223370e+18  9.223370e+18                 164            0.000000e+00   \n",
       "3    9.223370e+18  9.223370e+18                 164            3.057400e+10   \n",
       "4    9.223370e+18  9.223370e+18                 164            0.000000e+00   \n",
       "..            ...           ...                 ...                     ...   \n",
       "602  9.223370e+18  9.223370e+18                 164            0.000000e+00   \n",
       "603  1.099420e+12  1.089341e+12                 164            0.000000e+00   \n",
       "604  9.223370e+18  9.223370e+18                 164            1.870400e+10   \n",
       "605  9.223370e+18  9.223370e+18                 164            0.000000e+00   \n",
       "606  9.223370e+18  9.223370e+18                 164            0.000000e+00   \n",
       "\n",
       "     time_between_movements_avg  \n",
       "0                 -3.185083e+08  \n",
       "1                 -3.185083e+08  \n",
       "2                 -3.185083e+08  \n",
       "3                 -3.185083e+08  \n",
       "4                 -3.185083e+08  \n",
       "..                          ...  \n",
       "602               -3.185083e+08  \n",
       "603               -3.185083e+08  \n",
       "604               -3.185083e+08  \n",
       "605               -3.185083e+08  \n",
       "606               -3.185083e+08  \n",
       "\n",
       "[607 rows x 16 columns]>"
      ]
     },
     "execution_count": 13,
     "metadata": {},
     "output_type": "execute_result"
    }
   ],
   "source": [
    "df.info"
   ]
  },
  {
   "cell_type": "code",
   "execution_count": 14,
   "metadata": {},
   "outputs": [
    {
     "data": {
      "text/html": [
       "<div>\n",
       "<style scoped>\n",
       "    .dataframe tbody tr th:only-of-type {\n",
       "        vertical-align: middle;\n",
       "    }\n",
       "\n",
       "    .dataframe tbody tr th {\n",
       "        vertical-align: top;\n",
       "    }\n",
       "\n",
       "    .dataframe thead th {\n",
       "        text-align: right;\n",
       "    }\n",
       "</style>\n",
       "<table border=\"1\" class=\"dataframe\">\n",
       "  <thead>\n",
       "    <tr style=\"text-align: right;\">\n",
       "      <th></th>\n",
       "      <th>id</th>\n",
       "      <th>anchorID</th>\n",
       "      <th>tagID</th>\n",
       "      <th>sequenceID</th>\n",
       "      <th>pan</th>\n",
       "      <th>processed_flag</th>\n",
       "      <th>timestampToA</th>\n",
       "      <th>Timestamp ToA</th>\n",
       "      <th>timestampToA_norm</th>\n",
       "      <th>timestampToA_stand</th>\n",
       "      <th>min</th>\n",
       "      <th>max</th>\n",
       "      <th>time_spent</th>\n",
       "      <th>movement_frequency</th>\n",
       "      <th>time_between_movements</th>\n",
       "      <th>time_between_movements_avg</th>\n",
       "    </tr>\n",
       "  </thead>\n",
       "  <tbody>\n",
       "    <tr>\n",
       "      <th>0</th>\n",
       "      <td>2</td>\n",
       "      <td>ANCH0004</td>\n",
       "      <td>TAG00001</td>\n",
       "      <td>0</td>\n",
       "      <td>0</td>\n",
       "      <td>1</td>\n",
       "      <td>7.284800e+11</td>\n",
       "      <td>728480463235</td>\n",
       "      <td>7.788921e-08</td>\n",
       "      <td>-0.091135</td>\n",
       "      <td>1.007897e+10</td>\n",
       "      <td>9.223370e+18</td>\n",
       "      <td>9.223370e+18</td>\n",
       "      <td>164</td>\n",
       "      <td>NaN</td>\n",
       "      <td>-3.185083e+08</td>\n",
       "    </tr>\n",
       "    <tr>\n",
       "      <th>1</th>\n",
       "      <td>3</td>\n",
       "      <td>ANCH0002</td>\n",
       "      <td>TAG00001</td>\n",
       "      <td>0</td>\n",
       "      <td>0</td>\n",
       "      <td>1</td>\n",
       "      <td>7.284800e+11</td>\n",
       "      <td>728480462804</td>\n",
       "      <td>7.788921e-08</td>\n",
       "      <td>-0.091135</td>\n",
       "      <td>1.007898e+10</td>\n",
       "      <td>9.223370e+18</td>\n",
       "      <td>9.223370e+18</td>\n",
       "      <td>164</td>\n",
       "      <td>0.000000e+00</td>\n",
       "      <td>-3.185083e+08</td>\n",
       "    </tr>\n",
       "    <tr>\n",
       "      <th>2</th>\n",
       "      <td>4</td>\n",
       "      <td>ANCH0003</td>\n",
       "      <td>TAG00001</td>\n",
       "      <td>0</td>\n",
       "      <td>0</td>\n",
       "      <td>1</td>\n",
       "      <td>7.284800e+11</td>\n",
       "      <td>728480463013</td>\n",
       "      <td>7.788921e-08</td>\n",
       "      <td>-0.091135</td>\n",
       "      <td>1.007895e+10</td>\n",
       "      <td>9.223370e+18</td>\n",
       "      <td>9.223370e+18</td>\n",
       "      <td>164</td>\n",
       "      <td>0.000000e+00</td>\n",
       "      <td>-3.185083e+08</td>\n",
       "    </tr>\n",
       "    <tr>\n",
       "      <th>3</th>\n",
       "      <td>6</td>\n",
       "      <td>ANCH0004</td>\n",
       "      <td>TAG00001</td>\n",
       "      <td>1</td>\n",
       "      <td>0</td>\n",
       "      <td>1</td>\n",
       "      <td>7.590540e+11</td>\n",
       "      <td>759053775656</td>\n",
       "      <td>8.120406e-08</td>\n",
       "      <td>-0.091135</td>\n",
       "      <td>1.007897e+10</td>\n",
       "      <td>9.223370e+18</td>\n",
       "      <td>9.223370e+18</td>\n",
       "      <td>164</td>\n",
       "      <td>3.057400e+10</td>\n",
       "      <td>-3.185083e+08</td>\n",
       "    </tr>\n",
       "    <tr>\n",
       "      <th>4</th>\n",
       "      <td>7</td>\n",
       "      <td>ANCH0002</td>\n",
       "      <td>TAG00001</td>\n",
       "      <td>1</td>\n",
       "      <td>0</td>\n",
       "      <td>1</td>\n",
       "      <td>7.590540e+11</td>\n",
       "      <td>759053775204</td>\n",
       "      <td>8.120406e-08</td>\n",
       "      <td>-0.091135</td>\n",
       "      <td>1.007898e+10</td>\n",
       "      <td>9.223370e+18</td>\n",
       "      <td>9.223370e+18</td>\n",
       "      <td>164</td>\n",
       "      <td>0.000000e+00</td>\n",
       "      <td>-3.185083e+08</td>\n",
       "    </tr>\n",
       "  </tbody>\n",
       "</table>\n",
       "</div>"
      ],
      "text/plain": [
       "   id  anchorID     tagID  sequenceID  pan  processed_flag  timestampToA  \\\n",
       "0   2  ANCH0004  TAG00001           0    0               1  7.284800e+11   \n",
       "1   3  ANCH0002  TAG00001           0    0               1  7.284800e+11   \n",
       "2   4  ANCH0003  TAG00001           0    0               1  7.284800e+11   \n",
       "3   6  ANCH0004  TAG00001           1    0               1  7.590540e+11   \n",
       "4   7  ANCH0002  TAG00001           1    0               1  7.590540e+11   \n",
       "\n",
       "   Timestamp ToA  timestampToA_norm  timestampToA_stand           min  \\\n",
       "0   728480463235       7.788921e-08           -0.091135  1.007897e+10   \n",
       "1   728480462804       7.788921e-08           -0.091135  1.007898e+10   \n",
       "2   728480463013       7.788921e-08           -0.091135  1.007895e+10   \n",
       "3   759053775656       8.120406e-08           -0.091135  1.007897e+10   \n",
       "4   759053775204       8.120406e-08           -0.091135  1.007898e+10   \n",
       "\n",
       "            max    time_spent  movement_frequency  time_between_movements  \\\n",
       "0  9.223370e+18  9.223370e+18                 164                     NaN   \n",
       "1  9.223370e+18  9.223370e+18                 164            0.000000e+00   \n",
       "2  9.223370e+18  9.223370e+18                 164            0.000000e+00   \n",
       "3  9.223370e+18  9.223370e+18                 164            3.057400e+10   \n",
       "4  9.223370e+18  9.223370e+18                 164            0.000000e+00   \n",
       "\n",
       "   time_between_movements_avg  \n",
       "0               -3.185083e+08  \n",
       "1               -3.185083e+08  \n",
       "2               -3.185083e+08  \n",
       "3               -3.185083e+08  \n",
       "4               -3.185083e+08  "
      ]
     },
     "execution_count": 14,
     "metadata": {},
     "output_type": "execute_result"
    }
   ],
   "source": [
    "df.head()"
   ]
  },
  {
   "attachments": {},
   "cell_type": "markdown",
   "metadata": {},
   "source": [
    "#### Number of Areas Visited"
   ]
  },
  {
   "attachments": {},
   "cell_type": "markdown",
   "metadata": {},
   "source": [
    "This finds the number of unique areas ('anchorID') each patient ('tagID') has been in. This could be helpful for understanding how much each patient moves around"
   ]
  },
  {
   "cell_type": "code",
   "execution_count": 15,
   "metadata": {},
   "outputs": [],
   "source": [
    "# Calculate the number of unique areas visited by each 'tagID'\n",
    "df_areas = df.groupby('tagID')['anchorID'].nunique().reset_index()\n",
    "\n",
    "# Rename the column to 'areas_visited'\n",
    "df_areas.rename(columns={'anchorID': 'areas_visited'}, inplace=True)\n",
    "\n",
    "# Merge this back to the original dataframe\n",
    "df = pd.merge(df, df_areas, on='tagID')"
   ]
  },
  {
   "cell_type": "code",
   "execution_count": 16,
   "metadata": {},
   "outputs": [
    {
     "data": {
      "text/html": [
       "<div>\n",
       "<style scoped>\n",
       "    .dataframe tbody tr th:only-of-type {\n",
       "        vertical-align: middle;\n",
       "    }\n",
       "\n",
       "    .dataframe tbody tr th {\n",
       "        vertical-align: top;\n",
       "    }\n",
       "\n",
       "    .dataframe thead th {\n",
       "        text-align: right;\n",
       "    }\n",
       "</style>\n",
       "<table border=\"1\" class=\"dataframe\">\n",
       "  <thead>\n",
       "    <tr style=\"text-align: right;\">\n",
       "      <th></th>\n",
       "      <th>id</th>\n",
       "      <th>anchorID</th>\n",
       "      <th>tagID</th>\n",
       "      <th>sequenceID</th>\n",
       "      <th>pan</th>\n",
       "      <th>processed_flag</th>\n",
       "      <th>timestampToA</th>\n",
       "      <th>Timestamp ToA</th>\n",
       "      <th>timestampToA_norm</th>\n",
       "      <th>timestampToA_stand</th>\n",
       "      <th>min</th>\n",
       "      <th>max</th>\n",
       "      <th>time_spent</th>\n",
       "      <th>movement_frequency</th>\n",
       "      <th>time_between_movements</th>\n",
       "      <th>time_between_movements_avg</th>\n",
       "      <th>areas_visited</th>\n",
       "    </tr>\n",
       "  </thead>\n",
       "  <tbody>\n",
       "    <tr>\n",
       "      <th>0</th>\n",
       "      <td>2</td>\n",
       "      <td>ANCH0004</td>\n",
       "      <td>TAG00001</td>\n",
       "      <td>0</td>\n",
       "      <td>0</td>\n",
       "      <td>1</td>\n",
       "      <td>7.284800e+11</td>\n",
       "      <td>728480463235</td>\n",
       "      <td>7.788921e-08</td>\n",
       "      <td>-0.091135</td>\n",
       "      <td>1.007897e+10</td>\n",
       "      <td>9.223370e+18</td>\n",
       "      <td>9.223370e+18</td>\n",
       "      <td>164</td>\n",
       "      <td>NaN</td>\n",
       "      <td>-3.185083e+08</td>\n",
       "      <td>4</td>\n",
       "    </tr>\n",
       "    <tr>\n",
       "      <th>1</th>\n",
       "      <td>3</td>\n",
       "      <td>ANCH0002</td>\n",
       "      <td>TAG00001</td>\n",
       "      <td>0</td>\n",
       "      <td>0</td>\n",
       "      <td>1</td>\n",
       "      <td>7.284800e+11</td>\n",
       "      <td>728480462804</td>\n",
       "      <td>7.788921e-08</td>\n",
       "      <td>-0.091135</td>\n",
       "      <td>1.007898e+10</td>\n",
       "      <td>9.223370e+18</td>\n",
       "      <td>9.223370e+18</td>\n",
       "      <td>164</td>\n",
       "      <td>0.000000e+00</td>\n",
       "      <td>-3.185083e+08</td>\n",
       "      <td>4</td>\n",
       "    </tr>\n",
       "    <tr>\n",
       "      <th>2</th>\n",
       "      <td>4</td>\n",
       "      <td>ANCH0003</td>\n",
       "      <td>TAG00001</td>\n",
       "      <td>0</td>\n",
       "      <td>0</td>\n",
       "      <td>1</td>\n",
       "      <td>7.284800e+11</td>\n",
       "      <td>728480463013</td>\n",
       "      <td>7.788921e-08</td>\n",
       "      <td>-0.091135</td>\n",
       "      <td>1.007895e+10</td>\n",
       "      <td>9.223370e+18</td>\n",
       "      <td>9.223370e+18</td>\n",
       "      <td>164</td>\n",
       "      <td>0.000000e+00</td>\n",
       "      <td>-3.185083e+08</td>\n",
       "      <td>4</td>\n",
       "    </tr>\n",
       "    <tr>\n",
       "      <th>3</th>\n",
       "      <td>6</td>\n",
       "      <td>ANCH0004</td>\n",
       "      <td>TAG00001</td>\n",
       "      <td>1</td>\n",
       "      <td>0</td>\n",
       "      <td>1</td>\n",
       "      <td>7.590540e+11</td>\n",
       "      <td>759053775656</td>\n",
       "      <td>8.120406e-08</td>\n",
       "      <td>-0.091135</td>\n",
       "      <td>1.007897e+10</td>\n",
       "      <td>9.223370e+18</td>\n",
       "      <td>9.223370e+18</td>\n",
       "      <td>164</td>\n",
       "      <td>3.057400e+10</td>\n",
       "      <td>-3.185083e+08</td>\n",
       "      <td>4</td>\n",
       "    </tr>\n",
       "    <tr>\n",
       "      <th>4</th>\n",
       "      <td>7</td>\n",
       "      <td>ANCH0002</td>\n",
       "      <td>TAG00001</td>\n",
       "      <td>1</td>\n",
       "      <td>0</td>\n",
       "      <td>1</td>\n",
       "      <td>7.590540e+11</td>\n",
       "      <td>759053775204</td>\n",
       "      <td>8.120406e-08</td>\n",
       "      <td>-0.091135</td>\n",
       "      <td>1.007898e+10</td>\n",
       "      <td>9.223370e+18</td>\n",
       "      <td>9.223370e+18</td>\n",
       "      <td>164</td>\n",
       "      <td>0.000000e+00</td>\n",
       "      <td>-3.185083e+08</td>\n",
       "      <td>4</td>\n",
       "    </tr>\n",
       "  </tbody>\n",
       "</table>\n",
       "</div>"
      ],
      "text/plain": [
       "   id  anchorID     tagID  sequenceID  pan  processed_flag  timestampToA  \\\n",
       "0   2  ANCH0004  TAG00001           0    0               1  7.284800e+11   \n",
       "1   3  ANCH0002  TAG00001           0    0               1  7.284800e+11   \n",
       "2   4  ANCH0003  TAG00001           0    0               1  7.284800e+11   \n",
       "3   6  ANCH0004  TAG00001           1    0               1  7.590540e+11   \n",
       "4   7  ANCH0002  TAG00001           1    0               1  7.590540e+11   \n",
       "\n",
       "   Timestamp ToA  timestampToA_norm  timestampToA_stand           min  \\\n",
       "0   728480463235       7.788921e-08           -0.091135  1.007897e+10   \n",
       "1   728480462804       7.788921e-08           -0.091135  1.007898e+10   \n",
       "2   728480463013       7.788921e-08           -0.091135  1.007895e+10   \n",
       "3   759053775656       8.120406e-08           -0.091135  1.007897e+10   \n",
       "4   759053775204       8.120406e-08           -0.091135  1.007898e+10   \n",
       "\n",
       "            max    time_spent  movement_frequency  time_between_movements  \\\n",
       "0  9.223370e+18  9.223370e+18                 164                     NaN   \n",
       "1  9.223370e+18  9.223370e+18                 164            0.000000e+00   \n",
       "2  9.223370e+18  9.223370e+18                 164            0.000000e+00   \n",
       "3  9.223370e+18  9.223370e+18                 164            3.057400e+10   \n",
       "4  9.223370e+18  9.223370e+18                 164            0.000000e+00   \n",
       "\n",
       "   time_between_movements_avg  areas_visited  \n",
       "0               -3.185083e+08              4  \n",
       "1               -3.185083e+08              4  \n",
       "2               -3.185083e+08              4  \n",
       "3               -3.185083e+08              4  \n",
       "4               -3.185083e+08              4  "
      ]
     },
     "execution_count": 16,
     "metadata": {},
     "output_type": "execute_result"
    }
   ],
   "source": [
    "df.head()"
   ]
  },
  {
   "attachments": {},
   "cell_type": "markdown",
   "metadata": {},
   "source": [
    "### 5, Data Privacy"
   ]
  },
  {
   "attachments": {},
   "cell_type": "markdown",
   "metadata": {},
   "source": [
    "When dealing with healthcare data, it's important to ensure the privacy of individuals. Data shuld be carefully examined to ensure it does not contain personal identifiable information, like names, addresses, phone numbers, etc which could be used to trace back to an individual. Since this dataset is from a public data forum, so the private data should be cleared out, but it is always professional to check"
   ]
  },
  {
   "cell_type": "code",
   "execution_count": 17,
   "metadata": {},
   "outputs": [
    {
     "name": "stdout",
     "output_type": "stream",
     "text": [
      "id                              int64\n",
      "anchorID                       object\n",
      "tagID                          object\n",
      "sequenceID                      int64\n",
      "pan                             int64\n",
      "processed_flag                  int64\n",
      "timestampToA                  float64\n",
      "Timestamp ToA                   int64\n",
      "timestampToA_norm             float64\n",
      "timestampToA_stand            float64\n",
      "min                           float64\n",
      "max                           float64\n",
      "time_spent                    float64\n",
      "movement_frequency              int64\n",
      "time_between_movements        float64\n",
      "time_between_movements_avg    float64\n",
      "areas_visited                   int64\n",
      "dtype: object\n",
      "Unique values in anchorID: ['ANCH0004' 'ANCH0002' 'ANCH0003' 'ANCH0001']\n",
      "Unique values in tagID: ['TAG00001']\n"
     ]
    }
   ],
   "source": [
    "# Check the data types of each column\n",
    "print(df.dtypes)\n",
    "\n",
    "# If any columns have a dtype of 'object', examine those more closely\n",
    "object_cols = df.select_dtypes(include=['object']).columns\n",
    "\n",
    "# Print the unique values in each object column\n",
    "for col in object_cols:\n",
    "    print(f\"Unique values in {col}: {df[col].unique()}\")"
   ]
  },
  {
   "attachments": {},
   "cell_type": "markdown",
   "metadata": {},
   "source": [
    "This shows that the data tyoes of each column are as expected, and no columns contain unexpected string data that might be personally identifiable information (PII). The 'achorID' and 'tagID' columns contain categorical values that appear to represent different anchors and tags within the system."
   ]
  },
  {
   "attachments": {},
   "cell_type": "markdown",
   "metadata": {},
   "source": [
    "#### 6. Outlier Detection"
   ]
  },
  {
   "cell_type": "code",
   "execution_count": 18,
   "metadata": {},
   "outputs": [],
   "source": [
    "\n",
    "def detect_outliers(df, timestampToA):\n",
    "    # Calculate the IQR of the column\n",
    "    Q1 = df[timestampToA].quantile(0.25)\n",
    "    Q3 = df[timestampToA].quantile(0.75)\n",
    "    IQR = Q3 - Q1\n",
    "\n",
    "    # Define the upper and lower bounds for outliers\n",
    "    lower_bound = Q1 - 1.5 * IQR\n",
    "    upper_bound = Q3 + 1.5 * IQR\n",
    "\n",
    "    # Identify the outliers\n",
    "    outliers = df[(df[timestampToA] < lower_bound) | (df[timestampToA] > upper_bound)]\n",
    "\n",
    "    # Create a boxplot to visualize the outliers\n",
    "    sns.boxplot(x=df[timestampToA])\n",
    "    plt.show()\n",
    "\n",
    "    return outliers"
   ]
  },
  {
   "cell_type": "code",
   "execution_count": 19,
   "metadata": {},
   "outputs": [
    {
     "data": {
      "image/png": "[encoded data removed]",
      "text/plain": [
       "<Figure size 640x480 with 1 Axes>"
      ]
     },
     "metadata": {},
     "output_type": "display_data"
    },
    {
     "name": "stdout",
     "output_type": "stream",
     "text": [
      "      id  anchorID     tagID  sequenceID  pan  processed_flag  timestampToA  \\\n",
      "51    54  ANCH0004  TAG00001          15    0               1  9.223370e+18   \n",
      "52    56  ANCH0002  TAG00001          15    0               1  9.223370e+18   \n",
      "53    55  ANCH0003  TAG00001          15    0               1  9.223370e+18   \n",
      "199  203  ANCH0004  TAG00001          53    0               1  9.223370e+18   \n",
      "200  201  ANCH0002  TAG00001          53    0               1  9.223370e+18   \n",
      "\n",
      "           Timestamp ToA  timestampToA_norm  timestampToA_stand           min  \\\n",
      "51   9223372036854770000                1.0           10.972693  1.007897e+10   \n",
      "52   9223372036854770000                1.0           10.972693  1.007898e+10   \n",
      "53   9223372036854770000                1.0           10.972693  1.007895e+10   \n",
      "199  9223372036854770000                1.0           10.972693  1.007897e+10   \n",
      "200  9223372036854770000                1.0           10.972693  1.007898e+10   \n",
      "\n",
      "              max    time_spent  movement_frequency  time_between_movements  \\\n",
      "51   9.223370e+18  9.223370e+18                 164            9.223369e+18   \n",
      "52   9.223370e+18  9.223370e+18                 164            0.000000e+00   \n",
      "53   9.223370e+18  9.223370e+18                 164            0.000000e+00   \n",
      "199  9.223370e+18  9.223370e+18                 164            9.223369e+18   \n",
      "200  9.223370e+18  9.223370e+18                 164            0.000000e+00   \n",
      "\n",
      "     time_between_movements_avg  areas_visited  \n",
      "51                -3.185083e+08              4  \n",
      "52                -3.185083e+08              4  \n",
      "53                -3.185083e+08              4  \n",
      "199               -3.185083e+08              4  \n",
      "200               -3.185083e+08              4  \n"
     ]
    }
   ],
   "source": [
    "timestampToA = \"timestampToA\"\n",
    "outliers = detect_outliers(df, timestampToA)\n",
    "print(outliers)\n"
   ]
  },
  {
   "cell_type": "code",
   "execution_count": 24,
   "metadata": {},
   "outputs": [
    {
     "data": {
      "image/png": "[encoded data removed]",
      "text/plain": [
       "<Figure size 640x480 with 1 Axes>"
      ]
     },
     "metadata": {},
     "output_type": "display_data"
    }
   ],
   "source": [
    "timestampToA = \"timestampToA\"\n",
    "plt.hist(df[timestampToA], bins=50)  # Adjust the number of bins as needed\n",
    "plt.show()\n"
   ]
  },
  {
   "attachments": {},
   "cell_type": "markdown",
   "metadata": {},
   "source": [
    "#### 7. Data Use "
   ]
  },
  {
   "attachments": {},
   "cell_type": "markdown",
   "metadata": {},
   "source": [
    "The cleaned data can be used for the following future analysis and models\n",
    "\n",
    "<br> **Model Training**: Machine learning algorithms require clean, preprocessed data. After cleaning and transforming the data, it can be used to train supervised and unsupervised models. For example, the surveillance system dataset might be used to train a model that predicts patient movement patterns in a hospital, while the heart disease dataset might be used to create a predictive model for heart disease based on patient attributes.\n",
    "\n",
    "<br> **Exploratory Analysis**: The cleaned data can be used for exploratory data analysis (EDA) to understand patterns, spot anomalies, test hypotheses, or check assumptions.\n",
    "\n",
    "<br> **Feature Engineering**: The transformed data can be used for creating new features that might improve the performance of machine learning models.\n",
    "\n",
    "<br> **Statistical Testing**: The cleaned data can be used for various statistical tests to understand if certain conditions or features significantly affect the outcome."
   ]
  },
  {
   "attachments": {},
   "cell_type": "markdown",
   "metadata": {},
   "source": []
  }
 ],
 "metadata": {
  "kernelspec": {
   "display_name": "base",
   "language": "python",
   "name": "python3"
  },
  "language_info": {
   "codemirror_mode": {
    "name": "ipython",
    "version": 3
   },
   "file_extension": ".py",
   "mimetype": "text/x-python",
   "name": "python",
   "nbconvert_exporter": "python",
   "pygments_lexer": "ipython3",
   "version": "3.10.9"
  },
  "orig_nbformat": 4
 },
 "nbformat": 4,
 "nbformat_minor": 2
}
